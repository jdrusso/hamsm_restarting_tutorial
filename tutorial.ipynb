{
 "cells": [
  {
   "cell_type": "markdown",
   "id": "b933de69-73b8-451d-8813-9555bc2628a4",
   "metadata": {},
   "source": [
    "# haMSM Analysis Tutorial\n",
    "\n",
    "This tutorial will demonstrate haMSM analysis on WE data using the `msm_we` package. We will analyze data from an NTL9 simulation, run with the restarting plugin."
   ]
  },
  {
   "cell_type": "code",
   "execution_count": 1,
   "id": "908627ee-d590-4ff3-a3d1-694eb8d49f26",
   "metadata": {
    "execution": {
     "iopub.execute_input": "2021-12-08T00:32:06.264282Z",
     "iopub.status.busy": "2021-12-08T00:32:06.263088Z",
     "iopub.status.idle": "2021-12-08T00:32:12.851450Z",
     "shell.execute_reply": "2021-12-08T00:32:12.850715Z",
     "shell.execute_reply.started": "2021-12-08T00:32:06.264067Z"
    },
    "tags": []
   },
   "outputs": [],
   "source": [
    "from msm_we import msm_we"
   ]
  },
  {
   "cell_type": "code",
   "execution_count": 2,
   "id": "cf883372-602f-4d10-a61c-9e2295dd50bb",
   "metadata": {
    "execution": {
     "iopub.execute_input": "2021-12-08T00:32:12.858962Z",
     "iopub.status.busy": "2021-12-08T00:32:12.858107Z",
     "iopub.status.idle": "2021-12-08T00:32:12.863681Z",
     "shell.execute_reply": "2021-12-08T00:32:12.862218Z",
     "shell.execute_reply.started": "2021-12-08T00:32:12.858926Z"
    }
   },
   "outputs": [],
   "source": [
    "import mdtraj as md\n",
    "import numpy as np"
   ]
  },
  {
   "cell_type": "markdown",
   "id": "190dbeae-1771-42b4-bb9d-ab5f83ce20a5",
   "metadata": {},
   "source": [
    "## Initialization"
   ]
  },
  {
   "cell_type": "code",
   "execution_count": 3,
   "id": "8f4feb68-83d7-4a11-9fa3-5a5af1e03141",
   "metadata": {
    "execution": {
     "iopub.execute_input": "2021-12-08T00:32:12.876335Z",
     "iopub.status.busy": "2021-12-08T00:32:12.876109Z",
     "iopub.status.idle": "2021-12-08T00:32:12.880305Z",
     "shell.execute_reply": "2021-12-08T00:32:12.879766Z",
     "shell.execute_reply.started": "2021-12-08T00:32:12.876315Z"
    },
    "tags": []
   },
   "outputs": [],
   "source": [
    "base_path = 'restart0'\n",
    "file_paths = [\n",
    "    f'{base_path}/run{run+1}/west.h5' for run in range(5)\n",
    "]\n",
    "\n",
    "ref_structure = 'ref_files/reference.pdb'"
   ]
  },
  {
   "cell_type": "markdown",
   "id": "f3405652-eeda-4028-819f-8d5ed6c88fb9",
   "metadata": {},
   "source": [
    "Prior to model building, ensure that your `west.h5` has been augmented with the full atomic coordinates in `auxdata/coord`. \n",
    "This is done for you when running WESTPA with the haMSM plugin. However, if you have WESTPA data that was generated without the plugin, you can still augment the `west.h5` file to work with the haMSM analysis.\n",
    "\n",
    "For an example of how to do this, please see [the `prepare_coordinates()` function of the haMSM plugin](https://github.com/jdrusso/westpa/blob/restarting_plugin/src/westpa/westext/hamsm_restarting/restart_driver.py#L100)."
   ]
  },
  {
   "cell_type": "markdown",
   "id": "68f9c3c5-d831-4135-83fb-099892db08f6",
   "metadata": {},
   "source": [
    "## Manual model-building\n",
    "\n",
    "The above process is super convenient, but if you want to develop and fine-tune your pipeline, or debug specific steps, it can be helpful to manually run through the model building steps instead."
   ]
  },
  {
   "cell_type": "code",
   "execution_count": 4,
   "id": "319cbe28-906a-46e6-a591-8e9e57b3ece8",
   "metadata": {
    "execution": {
     "iopub.execute_input": "2021-12-08T00:32:12.884032Z",
     "iopub.status.busy": "2021-12-08T00:32:12.883800Z",
     "iopub.status.idle": "2021-12-08T00:32:12.889168Z",
     "shell.execute_reply": "2021-12-08T00:32:12.888130Z",
     "shell.execute_reply.started": "2021-12-08T00:32:12.884011Z"
    }
   },
   "outputs": [],
   "source": [
    "from msm_we import msm_we\n",
    "import matplotlib.pyplot as plt\n",
    "import ray"
   ]
  },
  {
   "cell_type": "markdown",
   "id": "eeaecab6-0073-435e-8449-06afd08de732",
   "metadata": {},
   "source": [
    "#### Define feature selection"
   ]
  },
  {
   "cell_type": "markdown",
   "id": "ec8ff22f-aebf-4afd-b775-449dd295c821",
   "metadata": {},
   "source": [
    "Before we can start building our model, we must write a `processCoordinates()` function. This takes in the full set of atomic coordinates from `west.h5:/iteration_xxxx/auxdata/coord` and returns the set of coordinates which will be used to build the model. This is useful for selecting out an important or representative subset of the full atoms, since the full set of atoms is likely not necessary for analysis, adds noise, and lengthens runtime.\n",
    "\n",
    "**It's necessary to define your own `processCoordinates()` rather than having one provided by the analysis library because this choice of selection is extremely system dependent.**\n",
    "\n",
    "**<u>DO NOT</u>** copy this processCoordinates around and expect it to work with any arbitrary system!\n",
    "\n",
    "Then, *after* importing `msm_we`, monkey-patch it with your new `processCoordinates()`."
   ]
  },
  {
   "cell_type": "code",
   "execution_count": 5,
   "id": "8a6c6a9d-342b-40b8-8e8a-b58d275f7eb6",
   "metadata": {
    "execution": {
     "iopub.execute_input": "2021-12-08T00:32:12.891712Z",
     "iopub.status.busy": "2021-12-08T00:32:12.890121Z",
     "iopub.status.idle": "2021-12-08T00:32:12.904454Z",
     "shell.execute_reply": "2021-12-08T00:32:12.901285Z",
     "shell.execute_reply.started": "2021-12-08T00:32:12.891045Z"
    },
    "tags": []
   },
   "outputs": [],
   "source": [
    "def processCoordinates(self, coords):\n",
    "\n",
    "    if self.dimReduceMethod == \"none\":\n",
    "        nC = np.shape(coords)\n",
    "        nC = nC[0]\n",
    "        data = coords.reshape(nC, 3 * self.nAtoms)\n",
    "        return data\n",
    "\n",
    "    elif self.dimReduceMethod == \"pca\":\n",
    "\n",
    "        # Dimensionality reduction \n",
    "\n",
    "        xt = md.Trajectory(xyz=coords, topology=None)\n",
    "        indCA = self.reference_structure.topology.select(\"name CA\")\n",
    "        pair1, pair2 = np.meshgrid(indCA, indCA, indexing=\"xy\")\n",
    "        indUT = np.where(np.triu(pair1, k=1) > 0)\n",
    "        pairs = np.transpose(np.array([pair1[indUT], pair2[indUT]])).astype(int)\n",
    "        dist = md.compute_distances(xt, pairs, periodic=True, opt=True)\n",
    "        \n",
    "        return dist\n",
    "    \n",
    "msm_we.modelWE.processCoordinates = processCoordinates"
   ]
  },
  {
   "cell_type": "markdown",
   "id": "f1ee2f92-99e3-4e8e-9174-43a108be6ed3",
   "metadata": {},
   "source": [
    "#### Initialize model"
   ]
  },
  {
   "cell_type": "markdown",
   "id": "048492a8-9924-40d0-be2a-edb3aee7b0e2",
   "metadata": {
    "execution": {
     "iopub.execute_input": "2021-12-07T23:49:55.554869Z",
     "iopub.status.busy": "2021-12-07T23:49:55.554308Z",
     "iopub.status.idle": "2021-12-07T23:49:55.571748Z",
     "shell.execute_reply": "2021-12-07T23:49:55.567523Z",
     "shell.execute_reply.started": "2021-12-07T23:49:55.554829Z"
    }
   },
   "source": [
    "First, let's launch Ray so we can parallelize some slow parts of the calculation. Feel free to change `num_cpus` to however many available cores you have on your machine.\n",
    "\n",
    "For advanced users, instead of intializing a new cluster here you can launch a Ray cluster externally, and connect the `msm_we` analysis to it here."
   ]
  },
  {
   "cell_type": "code",
   "execution_count": 6,
   "id": "69330b4b-eb2a-4f4c-99cc-5bca9fc18ba9",
   "metadata": {
    "execution": {
     "iopub.execute_input": "2021-12-08T00:32:12.909899Z",
     "iopub.status.busy": "2021-12-08T00:32:12.907201Z",
     "iopub.status.idle": "2021-12-08T00:32:17.214485Z",
     "shell.execute_reply": "2021-12-08T00:32:17.213322Z",
     "shell.execute_reply.started": "2021-12-08T00:32:12.909853Z"
    },
    "tags": []
   },
   "outputs": [
    {
     "name": "stderr",
     "output_type": "stream",
     "text": [
      "2021-12-07 16:32:16,145\tINFO services.py:1263 -- View the Ray dashboard at \u001b[1m\u001b[32mhttp://127.0.0.1:8265\u001b[39m\u001b[22m\n"
     ]
    },
    {
     "data": {
      "text/plain": [
       "{'node_ip_address': '192.168.1.200',\n",
       " 'raylet_ip_address': '192.168.1.200',\n",
       " 'redis_address': '192.168.1.200:24571',\n",
       " 'object_store_address': '/tmp/ray/session_2021-12-07_16-32-12_913210_68962/sockets/plasma_store',\n",
       " 'raylet_socket_name': '/tmp/ray/session_2021-12-07_16-32-12_913210_68962/sockets/raylet',\n",
       " 'webui_url': '127.0.0.1:8265',\n",
       " 'session_dir': '/tmp/ray/session_2021-12-07_16-32-12_913210_68962',\n",
       " 'metrics_export_port': 60848,\n",
       " 'node_id': 'aef1bd60c34c7c298190c5d95717822561ca7695da3297440fe6fcd6'}"
      ]
     },
     "execution_count": 6,
     "metadata": {},
     "output_type": "execute_result"
    }
   ],
   "source": [
    "ray.init(num_cpus=2, ignore_reinit_error=True)"
   ]
  },
  {
   "cell_type": "markdown",
   "id": "9dbf6035-95e1-4712-ab6d-20e0c1525a64",
   "metadata": {},
   "source": [
    "Now, let's initialize the haMSM model."
   ]
  },
  {
   "cell_type": "code",
   "execution_count": 7,
   "id": "d46ec377-354a-44f6-ba32-65344d359a1d",
   "metadata": {
    "execution": {
     "iopub.execute_input": "2021-12-08T00:32:17.218351Z",
     "iopub.status.busy": "2021-12-08T00:32:17.216846Z",
     "iopub.status.idle": "2021-12-08T00:32:17.225341Z",
     "shell.execute_reply": "2021-12-08T00:32:17.224112Z",
     "shell.execute_reply.started": "2021-12-08T00:32:17.218303Z"
    }
   },
   "outputs": [],
   "source": [
    "model = msm_we.modelWE()"
   ]
  },
  {
   "cell_type": "code",
   "execution_count": 8,
   "id": "4a1e2c9b-154e-441a-8f82-d27b0cfbcc3a",
   "metadata": {
    "execution": {
     "iopub.execute_input": "2021-12-08T00:32:17.227306Z",
     "iopub.status.busy": "2021-12-08T00:32:17.226877Z",
     "iopub.status.idle": "2021-12-08T00:32:17.392834Z",
     "shell.execute_reply": "2021-12-08T00:32:17.392306Z",
     "shell.execute_reply.started": "2021-12-08T00:32:17.227274Z"
    },
    "tags": []
   },
   "outputs": [],
   "source": [
    "model.initialize(\n",
    "    file_paths,\n",
    "    ref_structure,\n",
    "    modelName='NTL9',\n",
    "    basis_pcoord_bounds = [[9.6, np.inf]],\n",
    "    target_pcoord_bounds = [[-np.inf, 1.0]],\n",
    "    dim_reduce_method = 'pca',\n",
    "    tau = 1,\n",
    "    pcoord_ndim=1,\n",
    ")"
   ]
  },
  {
   "cell_type": "markdown",
   "id": "c0b11d15-fe3e-4569-ac36-03d322bdc647",
   "metadata": {},
   "source": [
    "#### Load coordinates into model\n",
    "\n",
    "The cells below will read our data files, and update the model with some information about your WESTPA run.\n",
    "\n",
    "We load our coordinates with `streaming=True` so we can process large datasets frame-by-frame, without storing them all in memory at once. Disabling this provides a small performance boost, at the cost of potentially substantial memory usage."
   ]
  },
  {
   "cell_type": "code",
   "execution_count": 9,
   "id": "b47c8d9c-087d-4c82-9e1a-b36686aa576c",
   "metadata": {
    "execution": {
     "iopub.execute_input": "2021-12-08T00:32:17.394175Z",
     "iopub.status.busy": "2021-12-08T00:32:17.393738Z",
     "iopub.status.idle": "2021-12-08T00:32:28.787906Z",
     "shell.execute_reply": "2021-12-08T00:32:28.787412Z",
     "shell.execute_reply.started": "2021-12-08T00:32:17.394143Z"
    }
   },
   "outputs": [
    {
     "data": {
      "application/vnd.jupyter.widget-view+json": {
       "model_id": "6c16cdd29d6445c5bc4de25ba8f3d2e8",
       "version_major": 2,
       "version_minor": 0
      },
      "text/plain": [
       "Getting coordSet:   0%|          | 0/100 [00:00<?, ?it/s]"
      ]
     },
     "metadata": {},
     "output_type": "display_data"
    }
   ],
   "source": [
    "model.get_iterations()\n",
    "\n",
    "model.get_coordSet(last_iter=model.maxIter, streaming=True)"
   ]
  },
  {
   "cell_type": "markdown",
   "id": "c74928a6-54e4-440c-a08b-b81a8e15e08e",
   "metadata": {},
   "source": [
    "#### Dimensionality reduction"
   ]
  },
  {
   "cell_type": "markdown",
   "id": "04604398-9057-4e9a-bce3-14a1ad07b40f",
   "metadata": {},
   "source": [
    "Next, we perform some dimensionality reduction on our model to reduce the number of features we're looking at.\n",
    "\n",
    "When doing discretization in the next step, dimensionality reduction is done by passing coordinates into a transformer object. This step builds the appropriate transformer object. In this example, it calculates a PCA model for the data.\n",
    "\n",
    "(Note that the data is not actually transformed in this step -- this builds the model, and prepares the transformer, which is applied in the next step.)"
   ]
  },
  {
   "cell_type": "code",
   "execution_count": 10,
   "id": "d02828ff-bd58-4da1-bf06-c5d16e7d3ce9",
   "metadata": {
    "execution": {
     "iopub.execute_input": "2021-12-08T00:32:28.789600Z",
     "iopub.status.busy": "2021-12-08T00:32:28.789313Z",
     "iopub.status.idle": "2021-12-08T00:33:14.214154Z",
     "shell.execute_reply": "2021-12-08T00:33:14.209832Z",
     "shell.execute_reply.started": "2021-12-08T00:32:28.789569Z"
    }
   },
   "outputs": [
    {
     "data": {
      "application/vnd.jupyter.widget-view+json": {
       "model_id": "0723f573ccf74ac58d1b304b0f1a9584",
       "version_major": 2,
       "version_minor": 0
      },
      "text/plain": [
       "Initial iPCA:   0%|          | 0/50 [00:00<?, ?it/s]"
      ]
     },
     "metadata": {},
     "output_type": "display_data"
    },
    {
     "name": "stderr",
     "output_type": "stream",
     "text": [
      "/Users/russojd/opt/anaconda3/envs/westpa_openmm/lib/python3.9/site-packages/sklearn/decomposition/_incremental_pca.py:316: RuntimeWarning: Mean of empty slice.\n",
      "  explained_variance[self.n_components_:].mean()\n",
      "/Users/russojd/opt/anaconda3/envs/westpa_openmm/lib/python3.9/site-packages/numpy/core/_methods.py:189: RuntimeWarning: invalid value encountered in true_divide\n",
      "  ret = ret.dtype.type(ret / rcount)\n"
     ]
    },
    {
     "data": {
      "application/vnd.jupyter.widget-view+json": {
       "model_id": "2fff490342914c99b83be0412e59a547",
       "version_major": 2,
       "version_minor": 0
      },
      "text/plain": [
       "iPCA:   0%|          | 0/99 [00:00<?, ?it/s]"
      ]
     },
     "metadata": {},
     "output_type": "display_data"
    }
   ],
   "source": [
    "model.dimReduce()"
   ]
  },
  {
   "cell_type": "markdown",
   "id": "d57e8b67-f63a-490f-8f31-36bd044ba490",
   "metadata": {},
   "source": [
    "#### Clustering"
   ]
  },
  {
   "cell_type": "markdown",
   "id": "ead15c81-3951-4db5-82f8-8bf48aca36e9",
   "metadata": {},
   "source": [
    "Now, we can determine our discretization by clustering.\n",
    "\n",
    "Note that the number of cluster centers is very important, and can drastically affect the quality of your model. It is generally a good idea to attempt a range of values.\n",
    "\n",
    "Also note that `n_clusters` is the number of clusters *per WE bin* under stratified clustering (or the total number of clusters if stratified clustering is disabled). You should not disable stratified clustering unless you really, really have a good reason and know what you're doing.\n",
    "\n",
    "This performs \"stratified\" k-means clustering with 10 cluster centers in each WE bin, using streaming, with Ray for parallelism, and building the k-means model with iterations 20 and on to exclude some initial burn-in."
   ]
  },
  {
   "cell_type": "code",
   "execution_count": 11,
   "id": "7eba16b5-e93e-43dd-9a08-cc338064ce66",
   "metadata": {
    "execution": {
     "iopub.execute_input": "2021-12-08T00:33:14.217023Z",
     "iopub.status.busy": "2021-12-08T00:33:14.216571Z",
     "iopub.status.idle": "2021-12-08T00:33:38.863128Z",
     "shell.execute_reply": "2021-12-08T00:33:38.862340Z",
     "shell.execute_reply.started": "2021-12-08T00:33:14.216993Z"
    }
   },
   "outputs": [
    {
     "data": {
      "text/html": [
       "<pre style=\"white-space:pre;overflow-x:auto;line-height:normal;font-family:Menlo,'DejaVu Sans Mono',consolas,'Courier New',monospace\"><span style=\"color: #7fbfbf; text-decoration-color: #7fbfbf\">[12/07/21 16:33:14] </span><span style=\"color: #000080; text-decoration-color: #000080\">INFO    </span> Be aware: Number of cluster centers is an         <a href=\"file:///Users/russojd/Research/molssi_2021/msmWE_cc/msm_we/msm_we/msm_we.py\"><span style=\"color: #7f7f7f; text-decoration-color: #7f7f7f\">msm_we.py</span></a><span style=\"color: #7f7f7f; text-decoration-color: #7f7f7f\">:2940</span>\n",
       "                             important parameter, and can drastically affect                 \n",
       "                             model quality. We recommend examining                           \n",
       "                             block-validation results with a range of numbers                \n",
       "                             of clusters, to check for overfitting.                          \n",
       "</pre>\n"
      ],
      "text/plain": [
       "\u001b[2;36m[12/07/21 16:33:14]\u001b[0m\u001b[2;36m \u001b[0m\u001b[34mINFO    \u001b[0m Be aware: Number of cluster centers is an         \u001b]8;id=1638923594.2316759-710589;file:///Users/russojd/Research/molssi_2021/msmWE_cc/msm_we/msm_we/msm_we.py\u001b\\\u001b[2mmsm_we.py\u001b[0m\u001b]8;;\u001b\\\u001b[2m:2940\u001b[0m\n",
       "                             important parameter, and can drastically affect                 \n",
       "                             model quality. We recommend examining                           \n",
       "                             block-validation results with a range of numbers                \n",
       "                             of clusters, to check for overfitting.                          \n"
      ]
     },
     "metadata": {},
     "output_type": "display_data"
    },
    {
     "data": {
      "text/html": [
       "<pre style=\"white-space:pre;overflow-x:auto;line-height:normal;font-family:Menlo,'DejaVu Sans Mono',consolas,'Courier New',monospace\"><span style=\"color: #7fbfbf; text-decoration-color: #7fbfbf\">                    </span><span style=\"color: #000080; text-decoration-color: #000080\">INFO    </span> Beginning stratified clustering.                  <a href=\"file:///Users/russojd/Research/molssi_2021/msmWE_cc/msm_we/msm_we/msm_we.py\"><span style=\"color: #7f7f7f; text-decoration-color: #7f7f7f\">msm_we.py</span></a><span style=\"color: #7f7f7f; text-decoration-color: #7f7f7f\">:2947</span>\n",
       "</pre>\n"
      ],
      "text/plain": [
       "\u001b[2;36m                   \u001b[0m\u001b[2;36m \u001b[0m\u001b[34mINFO    \u001b[0m Beginning stratified clustering.                  \u001b]8;id=1638923594.240128-5147;file:///Users/russojd/Research/molssi_2021/msmWE_cc/msm_we/msm_we/msm_we.py\u001b\\\u001b[2mmsm_we.py\u001b[0m\u001b]8;;\u001b\\\u001b[2m:2947\u001b[0m\n"
      ]
     },
     "metadata": {},
     "output_type": "display_data"
    },
    {
     "data": {
      "text/html": [
       "<pre style=\"white-space:pre;overflow-x:auto;line-height:normal;font-family:Menlo,'DejaVu Sans Mono',consolas,'Courier New',monospace\"><span style=\"color: #7fbfbf; text-decoration-color: #7fbfbf\">                    </span><span style=\"color: #000080; text-decoration-color: #000080\">INFO    </span> Obtaining bin definitions from iteration <span style=\"color: #008080; text-decoration-color: #008080; font-weight: bold\">2</span> in     <a href=\"file:///Users/russojd/Research/molssi_2021/msmWE_cc/msm_we/msm_we/msm_we.py\"><span style=\"color: #7f7f7f; text-decoration-color: #7f7f7f\">msm_we.py</span></a><span style=\"color: #7f7f7f; text-decoration-color: #7f7f7f\">:3364</span>\n",
       "                             file restart0/run1/west.h5                                      \n",
       "</pre>\n"
      ],
      "text/plain": [
       "\u001b[2;36m                   \u001b[0m\u001b[2;36m \u001b[0m\u001b[34mINFO    \u001b[0m Obtaining bin definitions from iteration \u001b[1;36m2\u001b[0m in     \u001b]8;id=1638923594.2456698-883202;file:///Users/russojd/Research/molssi_2021/msmWE_cc/msm_we/msm_we/msm_we.py\u001b\\\u001b[2mmsm_we.py\u001b[0m\u001b]8;;\u001b\\\u001b[2m:3364\u001b[0m\n",
       "                             file restart0/run1/west.h5                                      \n"
      ]
     },
     "metadata": {},
     "output_type": "display_data"
    },
    {
     "data": {
      "text/html": [
       "<pre style=\"white-space:pre;overflow-x:auto;line-height:normal;font-family:Menlo,'DejaVu Sans Mono',consolas,'Courier New',monospace\"><span style=\"color: #7fbfbf; text-decoration-color: #7fbfbf\">                    </span><span style=\"color: #000080; text-decoration-color: #000080\">INFO    </span> Loading pickled bin mapper from H5 for stratified <a href=\"file:///Users/russojd/Research/molssi_2021/msmWE_cc/msm_we/msm_we/msm_we.py\"><span style=\"color: #7f7f7f; text-decoration-color: #7f7f7f\">msm_we.py</span></a><span style=\"color: #7f7f7f; text-decoration-color: #7f7f7f\">:3368</span>\n",
       "                             clustering<span style=\"color: #808000; text-decoration-color: #808000\">...</span>                                                   \n",
       "</pre>\n"
      ],
      "text/plain": [
       "\u001b[2;36m                   \u001b[0m\u001b[2;36m \u001b[0m\u001b[34mINFO    \u001b[0m Loading pickled bin mapper from H5 for stratified \u001b]8;id=1638923594.257813-995526;file:///Users/russojd/Research/molssi_2021/msmWE_cc/msm_we/msm_we/msm_we.py\u001b\\\u001b[2mmsm_we.py\u001b[0m\u001b]8;;\u001b\\\u001b[2m:3368\u001b[0m\n",
       "                             clustering\u001b[33m...\u001b[0m                                                   \n"
      ]
     },
     "metadata": {},
     "output_type": "display_data"
    },
    {
     "data": {
      "text/html": [
       "<pre style=\"white-space:pre;overflow-x:auto;line-height:normal;font-family:Menlo,'DejaVu Sans Mono',consolas,'Courier New',monospace\"><span style=\"color: #7fbfbf; text-decoration-color: #7fbfbf\">                    </span><span style=\"color: #000080; text-decoration-color: #000080\">INFO    </span> Doing stratified clustering with <span style=\"color: #008080; text-decoration-color: #008080; font-weight: bold\">530</span> total         <a href=\"file:///Users/russojd/Research/molssi_2021/msmWE_cc/msm_we/msm_we/msm_we.py\"><span style=\"color: #7f7f7f; text-decoration-color: #7f7f7f\">msm_we.py</span></a><span style=\"color: #7f7f7f; text-decoration-color: #7f7f7f\">:250</span>\n",
       "                             clusters                                                        \n",
       "</pre>\n"
      ],
      "text/plain": [
       "\u001b[2;36m                   \u001b[0m\u001b[2;36m \u001b[0m\u001b[34mINFO    \u001b[0m Doing stratified clustering with \u001b[1;36m530\u001b[0m total         \u001b]8;id=1638923594.2682638-358570;file:///Users/russojd/Research/molssi_2021/msmWE_cc/msm_we/msm_we/msm_we.py\u001b\\\u001b[2mmsm_we.py\u001b[0m\u001b]8;;\u001b\\\u001b[2m:250\u001b[0m\n",
       "                             clusters                                                        \n"
      ]
     },
     "metadata": {},
     "output_type": "display_data"
    },
    {
     "data": {
      "application/vnd.jupyter.widget-view+json": {
       "model_id": "c2d2d78ab4b6447ba7dac9e3c1c41196",
       "version_major": 2,
       "version_minor": 0
      },
      "text/plain": [
       "Clustering:   0%|          | 0/80 [00:00<?, ?it/s]"
      ]
     },
     "metadata": {},
     "output_type": "display_data"
    },
    {
     "data": {
      "text/html": [
       "<pre style=\"white-space:pre;overflow-x:auto;line-height:normal;font-family:Menlo,'DejaVu Sans Mono',consolas,'Courier New',monospace\"><span style=\"color: #7fbfbf; text-decoration-color: #7fbfbf\">[12/07/21 16:33:28] </span><span style=\"color: #000080; text-decoration-color: #000080\">INFO    </span> Using Ray cluster with <span style=\"color: #008080; text-decoration-color: #008080; font-weight: bold\">2.0</span> CPUs!                   <a href=\"file:///Users/russojd/Research/molssi_2021/msmWE_cc/msm_we/msm_we/msm_we.py\"><span style=\"color: #7f7f7f; text-decoration-color: #7f7f7f\">msm_we.py</span></a><span style=\"color: #7f7f7f; text-decoration-color: #7f7f7f\">:869</span>\n",
       "</pre>\n"
      ],
      "text/plain": [
       "\u001b[2;36m[12/07/21 16:33:28]\u001b[0m\u001b[2;36m \u001b[0m\u001b[34mINFO    \u001b[0m Using Ray cluster with \u001b[1;36m2.0\u001b[0m CPUs!                   \u001b]8;id=1638923608.485909-276863;file:///Users/russojd/Research/molssi_2021/msmWE_cc/msm_we/msm_we/msm_we.py\u001b\\\u001b[2mmsm_we.py\u001b[0m\u001b]8;;\u001b\\\u001b[2m:869\u001b[0m\n"
      ]
     },
     "metadata": {},
     "output_type": "display_data"
    },
    {
     "data": {
      "application/vnd.jupyter.widget-view+json": {
       "model_id": "94fc13ae523140d79706f501779022a4",
       "version_major": 2,
       "version_minor": 0
      },
      "text/plain": [
       "Submitting discretization tasks:   0%|          | 0/99 [00:00<?, ?it/s]"
      ]
     },
     "metadata": {},
     "output_type": "display_data"
    },
    {
     "data": {
      "application/vnd.jupyter.widget-view+json": {
       "model_id": "fd58d52e2d4f44769e1ee053bc7d3cc6",
       "version_major": 2,
       "version_minor": 0
      },
      "text/plain": [
       "Retrieving discretized trajectories:   0%|          | 0/99 [00:00<?, ?it/s]"
      ]
     },
     "metadata": {},
     "output_type": "display_data"
    },
    {
     "data": {
      "text/html": [
       "<pre style=\"white-space:pre;overflow-x:auto;line-height:normal;font-family:Menlo,'DejaVu Sans Mono',consolas,'Courier New',monospace\"><span style=\"color: #7fbfbf; text-decoration-color: #7fbfbf\">[12/07/21 16:33:38] </span><span style=\"color: #000080; text-decoration-color: #000080\">INFO    </span> Discretization complete                           <a href=\"file:///Users/russojd/Research/molssi_2021/msmWE_cc/msm_we/msm_we/msm_we.py\"><span style=\"color: #7f7f7f; text-decoration-color: #7f7f7f\">msm_we.py</span></a><span style=\"color: #7f7f7f; text-decoration-color: #7f7f7f\">:3993</span>\n",
       "</pre>\n"
      ],
      "text/plain": [
       "\u001b[2;36m[12/07/21 16:33:38]\u001b[0m\u001b[2;36m \u001b[0m\u001b[34mINFO    \u001b[0m Discretization complete                           \u001b]8;id=1638923618.840731-39702;file:///Users/russojd/Research/molssi_2021/msmWE_cc/msm_we/msm_we/msm_we.py\u001b\\\u001b[2mmsm_we.py\u001b[0m\u001b]8;;\u001b\\\u001b[2m:3993\u001b[0m\n"
      ]
     },
     "metadata": {},
     "output_type": "display_data"
    }
   ],
   "source": [
    "model.cluster_coordinates(n_clusters=10, first_cluster_iter=20, \n",
    "                          streaming=True, use_ray=True, stratified=True)"
   ]
  },
  {
   "cell_type": "markdown",
   "id": "9f53079a-f8b5-45b8-94fb-e5881038341c",
   "metadata": {},
   "source": [
    "#### Flux matrix calculation + cleaning"
   ]
  },
  {
   "cell_type": "markdown",
   "id": "de4f6be8-6950-4ac0-addf-06576bdf84c3",
   "metadata": {},
   "source": [
    "Now we can build a flux matrix, using the discretization from our clustering."
   ]
  },
  {
   "cell_type": "code",
   "execution_count": 12,
   "id": "df69cdde-bcba-4f90-bf38-041c6aa96e96",
   "metadata": {
    "execution": {
     "iopub.execute_input": "2021-12-08T00:33:38.864403Z",
     "iopub.status.busy": "2021-12-08T00:33:38.864161Z",
     "iopub.status.idle": "2021-12-08T00:33:55.090900Z",
     "shell.execute_reply": "2021-12-08T00:33:55.088275Z",
     "shell.execute_reply.started": "2021-12-08T00:33:38.864385Z"
    }
   },
   "outputs": [
    {
     "data": {
      "text/html": [
       "<pre style=\"white-space:pre;overflow-x:auto;line-height:normal;font-family:Menlo,'DejaVu Sans Mono',consolas,'Courier New',monospace\"><span style=\"color: #7fbfbf; text-decoration-color: #7fbfbf\">                    </span><span style=\"color: #000080; text-decoration-color: #000080\">INFO    </span> Using Ray cluster with <span style=\"color: #008080; text-decoration-color: #008080; font-weight: bold\">2.0</span> CPUs!                   <a href=\"file:///Users/russojd/Research/molssi_2021/msmWE_cc/msm_we/msm_we/msm_we.py\"><span style=\"color: #7f7f7f; text-decoration-color: #7f7f7f\">msm_we.py</span></a><span style=\"color: #7f7f7f; text-decoration-color: #7f7f7f\">:869</span>\n",
       "</pre>\n"
      ],
      "text/plain": [
       "\u001b[2;36m                   \u001b[0m\u001b[2;36m \u001b[0m\u001b[34mINFO    \u001b[0m Using Ray cluster with \u001b[1;36m2.0\u001b[0m CPUs!                   \u001b]8;id=1638923618.8739939-818337;file:///Users/russojd/Research/molssi_2021/msmWE_cc/msm_we/msm_we/msm_we.py\u001b\\\u001b[2mmsm_we.py\u001b[0m\u001b]8;;\u001b\\\u001b[2m:869\u001b[0m\n"
      ]
     },
     "metadata": {},
     "output_type": "display_data"
    },
    {
     "data": {
      "application/vnd.jupyter.widget-view+json": {
       "model_id": "416980d7b514459e8a9dffee3d5b7780",
       "version_major": 2,
       "version_minor": 0
      },
      "text/plain": [
       "Submitting fluxmatrix tasks:   0%|          | 0/99 [00:00<?, ?it/s]"
      ]
     },
     "metadata": {},
     "output_type": "display_data"
    },
    {
     "data": {
      "application/vnd.jupyter.widget-view+json": {
       "model_id": "b5033eeb3e674198aab3a6061551fac0",
       "version_major": 2,
       "version_minor": 0
      },
      "text/plain": [
       "Retrieving flux matrices:   0%|          | 0/99 [00:00<?, ?it/s]"
      ]
     },
     "metadata": {},
     "output_type": "display_data"
    },
    {
     "data": {
      "text/html": [
       "<pre style=\"white-space:pre;overflow-x:auto;line-height:normal;font-family:Menlo,'DejaVu Sans Mono',consolas,'Courier New',monospace\"><span style=\"color: #7fbfbf; text-decoration-color: #7fbfbf\">[12/07/21 16:33:55] </span><span style=\"color: #000080; text-decoration-color: #000080\">INFO    </span> Fluxmatrices all obtained                         <a href=\"file:///Users/russojd/Research/molssi_2021/msmWE_cc/msm_we/msm_we/msm_we.py\"><span style=\"color: #7f7f7f; text-decoration-color: #7f7f7f\">msm_we.py</span></a><span style=\"color: #7f7f7f; text-decoration-color: #7f7f7f\">:4624</span>\n",
       "</pre>\n"
      ],
      "text/plain": [
       "\u001b[2;36m[12/07/21 16:33:55]\u001b[0m\u001b[2;36m \u001b[0m\u001b[34mINFO    \u001b[0m Fluxmatrices all obtained                         \u001b]8;id=1638923635.0781171-813792;file:///Users/russojd/Research/molssi_2021/msmWE_cc/msm_we/msm_we/msm_we.py\u001b\\\u001b[2mmsm_we.py\u001b[0m\u001b]8;;\u001b\\\u001b[2m:4624\u001b[0m\n"
      ]
     },
     "metadata": {},
     "output_type": "display_data"
    }
   ],
   "source": [
    "model.get_fluxMatrix(0, first_iter=1, last_iter=model.maxIter, use_ray=True)"
   ]
  },
  {
   "cell_type": "markdown",
   "id": "848cf087-309b-46c4-9bae-9a3dffe0cf4a",
   "metadata": {},
   "source": [
    "The flux matrix computed in the previous step may have clusters that do not connect to the target state, typically just as a result of finite sampling. For example, \"sinks\"  where all trajectories that entered a cluster happened to be pruned (or the WE run ended before they transitioned out). \n",
    "\n",
    "When computing steady-state fluxes, if these are not removed, probability will accumulate in these and get trapped, unable to reach the target state and recycle. This will cause errors in computing both probability distributions and fluxes, so these states must be \"cleaned\" by removing them and reassigning structures in them to a \"good\" cluster.\n",
    "\n",
    "In the cleaning, we identify the largest set of connected states, remove all the other states, and rediscretize on those.\n",
    "\n",
    "After computing the set of \"good\" states, cleaning requires rediscretizing the data and recalculating the flux matrix using the new clusters, so we again use Ray to parallelize that."
   ]
  },
  {
   "cell_type": "code",
   "execution_count": 13,
   "id": "b23ca798-0e3d-4632-8a27-43f69ebe9ed0",
   "metadata": {
    "execution": {
     "iopub.execute_input": "2021-12-08T00:33:55.095044Z",
     "iopub.status.busy": "2021-12-08T00:33:55.093277Z",
     "iopub.status.idle": "2021-12-08T00:34:21.922079Z",
     "shell.execute_reply": "2021-12-08T00:34:21.921373Z",
     "shell.execute_reply.started": "2021-12-08T00:33:55.095008Z"
    }
   },
   "outputs": [
    {
     "data": {
      "text/html": [
       "<pre style=\"white-space:pre;overflow-x:auto;line-height:normal;font-family:Menlo,'DejaVu Sans Mono',consolas,'Courier New',monospace\"><span style=\"color: #7fbfbf; text-decoration-color: #7fbfbf\">                    </span><span style=\"color: #000080; text-decoration-color: #000080\">INFO    </span> Started with <span style=\"color: #008080; text-decoration-color: #008080; font-weight: bold\">530</span> clusters, and removed <span style=\"color: #008080; text-decoration-color: #008080; font-weight: bold\">304</span>        <a href=\"file:///Users/russojd/Research/molssi_2021/msmWE_cc/msm_we/msm_we/msm_we.py\"><span style=\"color: #7f7f7f; text-decoration-color: #7f7f7f\">msm_we.py</span></a><span style=\"color: #7f7f7f; text-decoration-color: #7f7f7f\">:3840</span>\n",
       "</pre>\n"
      ],
      "text/plain": [
       "\u001b[2;36m                   \u001b[0m\u001b[2;36m \u001b[0m\u001b[34mINFO    \u001b[0m Started with \u001b[1;36m530\u001b[0m clusters, and removed \u001b[1;36m304\u001b[0m        \u001b]8;id=1638923635.1174378-249287;file:///Users/russojd/Research/molssi_2021/msmWE_cc/msm_we/msm_we/msm_we.py\u001b\\\u001b[2mmsm_we.py\u001b[0m\u001b]8;;\u001b\\\u001b[2m:3840\u001b[0m\n"
      ]
     },
     "metadata": {},
     "output_type": "display_data"
    },
    {
     "data": {
      "text/html": [
       "<pre style=\"white-space:pre;overflow-x:auto;line-height:normal;font-family:Menlo,'DejaVu Sans Mono',consolas,'Courier New',monospace\"><span style=\"color: #7fbfbf; text-decoration-color: #7fbfbf\">                    </span><span style=\"color: #800000; text-decoration-color: #800000\">WARNING </span> All clusters were cleaned from bins <span style=\"font-weight: bold\">{</span><span style=\"color: #008080; text-decoration-color: #008080; font-weight: bold\">0</span>, <span style=\"color: #008080; text-decoration-color: #008080; font-weight: bold\">52</span><span style=\"font-weight: bold\">}</span>       <a href=\"file:///Users/russojd/Research/molssi_2021/msmWE_cc/msm_we/msm_we/msm_we.py\"><span style=\"color: #7f7f7f; text-decoration-color: #7f7f7f\">msm_we.py</span></a><span style=\"color: #7f7f7f; text-decoration-color: #7f7f7f\">:3856</span>\n",
       "</pre>\n"
      ],
      "text/plain": [
       "\u001b[2;36m                   \u001b[0m\u001b[2;36m \u001b[0m\u001b[31mWARNING \u001b[0m All clusters were cleaned from bins \u001b[1m{\u001b[0m\u001b[1;36m0\u001b[0m, \u001b[1;36m52\u001b[0m\u001b[1m}\u001b[0m       \u001b]8;id=1638923635.1199958-949664;file:///Users/russojd/Research/molssi_2021/msmWE_cc/msm_we/msm_we/msm_we.py\u001b\\\u001b[2mmsm_we.py\u001b[0m\u001b]8;;\u001b\\\u001b[2m:3856\u001b[0m\n"
      ]
     },
     "metadata": {},
     "output_type": "display_data"
    },
    {
     "data": {
      "text/html": [
       "<pre style=\"white-space:pre;overflow-x:auto;line-height:normal;font-family:Menlo,'DejaVu Sans Mono',consolas,'Courier New',monospace\"><span style=\"color: #7fbfbf; text-decoration-color: #7fbfbf\">                    </span><span style=\"color: #000080; text-decoration-color: #000080\">INFO    </span> Using Ray cluster with <span style=\"color: #008080; text-decoration-color: #008080; font-weight: bold\">2.0</span> CPUs!                   <a href=\"file:///Users/russojd/Research/molssi_2021/msmWE_cc/msm_we/msm_we/msm_we.py\"><span style=\"color: #7f7f7f; text-decoration-color: #7f7f7f\">msm_we.py</span></a><span style=\"color: #7f7f7f; text-decoration-color: #7f7f7f\">:869</span>\n",
       "</pre>\n"
      ],
      "text/plain": [
       "\u001b[2;36m                   \u001b[0m\u001b[2;36m \u001b[0m\u001b[34mINFO    \u001b[0m Using Ray cluster with \u001b[1;36m2.0\u001b[0m CPUs!                   \u001b]8;id=1638923635.124557-450853;file:///Users/russojd/Research/molssi_2021/msmWE_cc/msm_we/msm_we/msm_we.py\u001b\\\u001b[2mmsm_we.py\u001b[0m\u001b]8;;\u001b\\\u001b[2m:869\u001b[0m\n"
      ]
     },
     "metadata": {},
     "output_type": "display_data"
    },
    {
     "data": {
      "application/vnd.jupyter.widget-view+json": {
       "model_id": "c6972601108d48378b9f70c3c3289dce",
       "version_major": 2,
       "version_minor": 0
      },
      "text/plain": [
       "Submitting discretization tasks:   0%|          | 0/99 [00:00<?, ?it/s]"
      ]
     },
     "metadata": {},
     "output_type": "display_data"
    },
    {
     "data": {
      "application/vnd.jupyter.widget-view+json": {
       "model_id": "818fe3a04aa545abbf8f50cb5a3e9b68",
       "version_major": 2,
       "version_minor": 0
      },
      "text/plain": [
       "Retrieving discretized trajectories:   0%|          | 0/99 [00:00<?, ?it/s]"
      ]
     },
     "metadata": {},
     "output_type": "display_data"
    },
    {
     "data": {
      "text/html": [
       "<pre style=\"white-space:pre;overflow-x:auto;line-height:normal;font-family:Menlo,'DejaVu Sans Mono',consolas,'Courier New',monospace\"><span style=\"color: #7fbfbf; text-decoration-color: #7fbfbf\">[12/07/21 16:34:05] </span><span style=\"color: #000080; text-decoration-color: #000080\">INFO    </span> Discretization complete                           <a href=\"file:///Users/russojd/Research/molssi_2021/msmWE_cc/msm_we/msm_we/msm_we.py\"><span style=\"color: #7f7f7f; text-decoration-color: #7f7f7f\">msm_we.py</span></a><span style=\"color: #7f7f7f; text-decoration-color: #7f7f7f\">:3993</span>\n",
       "</pre>\n"
      ],
      "text/plain": [
       "\u001b[2;36m[12/07/21 16:34:05]\u001b[0m\u001b[2;36m \u001b[0m\u001b[34mINFO    \u001b[0m Discretization complete                           \u001b]8;id=1638923645.434585-927338;file:///Users/russojd/Research/molssi_2021/msmWE_cc/msm_we/msm_we/msm_we.py\u001b\\\u001b[2mmsm_we.py\u001b[0m\u001b]8;;\u001b\\\u001b[2m:3993\u001b[0m\n"
      ]
     },
     "metadata": {},
     "output_type": "display_data"
    },
    {
     "name": "stderr",
     "output_type": "stream",
     "text": [
      "/Users/russojd/Research/molssi_2021/msmWE_cc/msm_we/msm_we/msm_we.py:4064: VisibleDeprecationWarning: Creating an ndarray from ragged nested sequences (which is a list-or-tuple of lists-or-tuples-or ndarrays with different lengths or shapes) is deprecated. If you meant to do this, you must specify 'dtype=object' when creating the ndarray.\n",
      "  self.targetRMSD_all = np.array(cluster_pcoord_all)[pcoord_sort_indices]\n"
     ]
    },
    {
     "data": {
      "text/html": [
       "<pre style=\"white-space:pre;overflow-x:auto;line-height:normal;font-family:Menlo,'DejaVu Sans Mono',consolas,'Courier New',monospace\"><span style=\"color: #7fbfbf; text-decoration-color: #7fbfbf\">                    </span><span style=\"color: #000080; text-decoration-color: #000080\">INFO    </span> Using Ray cluster with <span style=\"color: #008080; text-decoration-color: #008080; font-weight: bold\">2.0</span> CPUs!                   <a href=\"file:///Users/russojd/Research/molssi_2021/msmWE_cc/msm_we/msm_we/msm_we.py\"><span style=\"color: #7f7f7f; text-decoration-color: #7f7f7f\">msm_we.py</span></a><span style=\"color: #7f7f7f; text-decoration-color: #7f7f7f\">:869</span>\n",
       "</pre>\n"
      ],
      "text/plain": [
       "\u001b[2;36m                   \u001b[0m\u001b[2;36m \u001b[0m\u001b[34mINFO    \u001b[0m Using Ray cluster with \u001b[1;36m2.0\u001b[0m CPUs!                   \u001b]8;id=1638923645.661057-595166;file:///Users/russojd/Research/molssi_2021/msmWE_cc/msm_we/msm_we/msm_we.py\u001b\\\u001b[2mmsm_we.py\u001b[0m\u001b]8;;\u001b\\\u001b[2m:869\u001b[0m\n"
      ]
     },
     "metadata": {},
     "output_type": "display_data"
    },
    {
     "data": {
      "application/vnd.jupyter.widget-view+json": {
       "model_id": "2e1fe71644434e91a30cac38c6221269",
       "version_major": 2,
       "version_minor": 0
      },
      "text/plain": [
       "Submitting fluxmatrix tasks:   0%|          | 0/99 [00:00<?, ?it/s]"
      ]
     },
     "metadata": {},
     "output_type": "display_data"
    },
    {
     "data": {
      "application/vnd.jupyter.widget-view+json": {
       "model_id": "a114a2a8a1854c14b0558c4bce3c86be",
       "version_major": 2,
       "version_minor": 0
      },
      "text/plain": [
       "Retrieving flux matrices:   0%|          | 0/99 [00:00<?, ?it/s]"
      ]
     },
     "metadata": {},
     "output_type": "display_data"
    },
    {
     "data": {
      "text/html": [
       "<pre style=\"white-space:pre;overflow-x:auto;line-height:normal;font-family:Menlo,'DejaVu Sans Mono',consolas,'Courier New',monospace\"><span style=\"color: #7fbfbf; text-decoration-color: #7fbfbf\">[12/07/21 16:34:21] </span><span style=\"color: #000080; text-decoration-color: #000080\">INFO    </span> Fluxmatrices all obtained                         <a href=\"file:///Users/russojd/Research/molssi_2021/msmWE_cc/msm_we/msm_we/msm_we.py\"><span style=\"color: #7f7f7f; text-decoration-color: #7f7f7f\">msm_we.py</span></a><span style=\"color: #7f7f7f; text-decoration-color: #7f7f7f\">:4624</span>\n",
       "</pre>\n"
      ],
      "text/plain": [
       "\u001b[2;36m[12/07/21 16:34:21]\u001b[0m\u001b[2;36m \u001b[0m\u001b[34mINFO    \u001b[0m Fluxmatrices all obtained                         \u001b]8;id=1638923661.9019651-408439;file:///Users/russojd/Research/molssi_2021/msmWE_cc/msm_we/msm_we/msm_we.py\u001b\\\u001b[2mmsm_we.py\u001b[0m\u001b]8;;\u001b\\\u001b[2m:4624\u001b[0m\n"
      ]
     },
     "metadata": {},
     "output_type": "display_data"
    }
   ],
   "source": [
    "model.organize_fluxMatrix(use_ray=True)"
   ]
  },
  {
   "cell_type": "markdown",
   "id": "ccf557ad-dae7-42b8-a09a-7384cea73b6d",
   "metadata": {},
   "source": [
    "Finally, we can compute the transition matrix by row-normalizing the flux matrix, and add in our steady-state boundary conditions by adding a direct transition from sink to source.\n",
    "\n",
    "This transition matrix is available as the attribute `model.Tmatrix`."
   ]
  },
  {
   "cell_type": "code",
   "execution_count": 14,
   "id": "14422a3e-70ff-4b0a-849b-3cbfa72c3a85",
   "metadata": {
    "execution": {
     "iopub.execute_input": "2021-12-08T00:34:21.923249Z",
     "iopub.status.busy": "2021-12-08T00:34:21.922895Z",
     "iopub.status.idle": "2021-12-08T00:34:21.929079Z",
     "shell.execute_reply": "2021-12-08T00:34:21.928429Z",
     "shell.execute_reply.started": "2021-12-08T00:34:21.923229Z"
    }
   },
   "outputs": [],
   "source": [
    "model.get_Tmatrix()"
   ]
  },
  {
   "cell_type": "markdown",
   "id": "6a8db96f-6b3f-40e6-b086-500c5aab8f43",
   "metadata": {},
   "source": [
    "## Model analysis\n",
    "\n",
    "Now that we have built the haMSM, let's analyze some features from it."
   ]
  },
  {
   "cell_type": "markdown",
   "id": "f59be10c-54e7-46a9-85af-fb6d7a23ce40",
   "metadata": {},
   "source": [
    "First, let's compute steady-state from the transition matrix, and use that to estimate the target flux. This number is in units of 1/tau."
   ]
  },
  {
   "cell_type": "code",
   "execution_count": 15,
   "id": "9c54c143-c6ba-4741-af54-badf0a6dfba0",
   "metadata": {
    "execution": {
     "iopub.execute_input": "2021-12-08T00:34:21.930150Z",
     "iopub.status.busy": "2021-12-08T00:34:21.929857Z",
     "iopub.status.idle": "2021-12-08T00:34:22.110541Z",
     "shell.execute_reply": "2021-12-08T00:34:22.109743Z",
     "shell.execute_reply.started": "2021-12-08T00:34:21.930124Z"
    },
    "tags": []
   },
   "outputs": [
    {
     "data": {
      "text/html": [
       "<pre style=\"white-space:pre;overflow-x:auto;line-height:normal;font-family:Menlo,'DejaVu Sans Mono',consolas,'Courier New',monospace\"><span style=\"color: #7fbfbf; text-decoration-color: #7fbfbf\">[12/07/21 16:34:22] </span><span style=\"color: #000080; text-decoration-color: #000080\">INFO    </span>                                                   <a href=\"file:///Users/russojd/Research/molssi_2021/msmWE_cc/msm_we/msm_we/msm_we.py\"><span style=\"color: #7f7f7f; text-decoration-color: #7f7f7f\">msm_we.py</span></a><span style=\"color: #7f7f7f; text-decoration-color: #7f7f7f\">:5267</span>\n",
       "                             Flux converged to <span style=\"color: #008080; text-decoration-color: #008080; font-weight: bold\">2.6317e-10</span> after <span style=\"color: #008080; text-decoration-color: #008080; font-weight: bold\">1</span> iterations                 \n",
       "                             of inverse iteration.                                           \n",
       "</pre>\n"
      ],
      "text/plain": [
       "\u001b[2;36m[12/07/21 16:34:22]\u001b[0m\u001b[2;36m \u001b[0m\u001b[34mINFO    \u001b[0m                                                   \u001b]8;id=1638923662.101333-436079;file:///Users/russojd/Research/molssi_2021/msmWE_cc/msm_we/msm_we/msm_we.py\u001b\\\u001b[2mmsm_we.py\u001b[0m\u001b]8;;\u001b\\\u001b[2m:5267\u001b[0m\n",
       "                             Flux converged to \u001b[1;36m2.6317e-10\u001b[0m after \u001b[1;36m1\u001b[0m iterations                 \n",
       "                             of inverse iteration.                                           \n"
      ]
     },
     "metadata": {},
     "output_type": "display_data"
    },
    {
     "data": {
      "text/html": [
       "<pre style=\"white-space:pre;overflow-x:auto;line-height:normal;font-family:Menlo,'DejaVu Sans Mono',consolas,'Courier New',monospace\"><span style=\"color: #7fbfbf; text-decoration-color: #7fbfbf\">                    </span><span style=\"color: #000080; text-decoration-color: #000080\">INFO    </span> Done with steady-state estimation.                <a href=\"file:///Users/russojd/Research/molssi_2021/msmWE_cc/msm_we/msm_we/msm_we.py\"><span style=\"color: #7f7f7f; text-decoration-color: #7f7f7f\">msm_we.py</span></a><span style=\"color: #7f7f7f; text-decoration-color: #7f7f7f\">:5278</span>\n",
       "</pre>\n"
      ],
      "text/plain": [
       "\u001b[2;36m                   \u001b[0m\u001b[2;36m \u001b[0m\u001b[34mINFO    \u001b[0m Done with steady-state estimation.                \u001b]8;id=1638923662.1038961-876252;file:///Users/russojd/Research/molssi_2021/msmWE_cc/msm_we/msm_we/msm_we.py\u001b\\\u001b[2mmsm_we.py\u001b[0m\u001b]8;;\u001b\\\u001b[2m:5278\u001b[0m\n"
      ]
     },
     "metadata": {},
     "output_type": "display_data"
    },
    {
     "name": "stdout",
     "output_type": "stream",
     "text": [
      "Steady-state target flux is 2.63e-10\n"
     ]
    }
   ],
   "source": [
    "model.get_steady_state()\n",
    "model.get_steady_state_target_flux()\n",
    "\n",
    "print(f\"Steady-state target flux is {model.JtargetSS:.2e}\")"
   ]
  },
  {
   "cell_type": "markdown",
   "id": "0e70d304-6ad3-4088-95f4-5e8ac9111e59",
   "metadata": {},
   "source": [
    "It's also important to look at flux profiles to analyze convergence. When in steady-state, flux profiles should be flat.\n",
    "\n",
    "First, let's look at the flux profile along a progress coordinate."
   ]
  },
  {
   "cell_type": "code",
   "execution_count": 16,
   "id": "3d5c4e93-2449-4f7b-a385-71e5b8ec693e",
   "metadata": {
    "execution": {
     "iopub.execute_input": "2021-12-08T00:34:22.111719Z",
     "iopub.status.busy": "2021-12-08T00:34:22.111518Z",
     "iopub.status.idle": "2021-12-08T00:34:24.005399Z",
     "shell.execute_reply": "2021-12-08T00:34:24.004779Z",
     "shell.execute_reply.started": "2021-12-08T00:34:22.111695Z"
    },
    "tags": []
   },
   "outputs": [
    {
     "data": {
      "text/html": [
       "<pre style=\"white-space:pre;overflow-x:auto;line-height:normal;font-family:Menlo,'DejaVu Sans Mono',consolas,'Courier New',monospace\"><span style=\"color: #7fbfbf; text-decoration-color: #7fbfbf\">                    </span><span style=\"background-color: #800000; font-weight: bold\">CRITICAL</span> No cross-validation models have been generated!   <a href=\"file:///Users/russojd/Research/molssi_2021/msmWE_cc/msm_we/msm_we/msm_we.py\"><span style=\"color: #7f7f7f; text-decoration-color: #7f7f7f\">msm_we.py</span></a><span style=\"color: #7f7f7f; text-decoration-color: #7f7f7f\">:5859</span>\n",
       "                             Do this before making plots.                                    \n",
       "</pre>\n"
      ],
      "text/plain": [
       "\u001b[2;36m                   \u001b[0m\u001b[2;36m \u001b[0m\u001b[1;7;31mCRITICAL\u001b[0m No cross-validation models have been generated!   \u001b]8;id=1638923662.113973-450614;file:///Users/russojd/Research/molssi_2021/msmWE_cc/msm_we/msm_we/msm_we.py\u001b\\\u001b[2mmsm_we.py\u001b[0m\u001b]8;;\u001b\\\u001b[2m:5859\u001b[0m\n",
       "                             Do this before making plots.                                    \n"
      ]
     },
     "metadata": {},
     "output_type": "display_data"
    },
    {
     "data": {
      "text/html": [
       "<pre style=\"white-space:pre;overflow-x:auto;line-height:normal;font-family:Menlo,'DejaVu Sans Mono',consolas,'Courier New',monospace\"><span style=\"color: #7fbfbf; text-decoration-color: #7fbfbf\">                    </span><span style=\"color: #800000; text-decoration-color: #800000\">WARNING </span> Fluxes have not yet been generated for            <a href=\"file:///Users/russojd/Research/molssi_2021/msmWE_cc/msm_we/msm_we/msm_we.py\"><span style=\"color: #7f7f7f; text-decoration-color: #7f7f7f\">msm_we.py</span></a><span style=\"color: #7f7f7f; text-decoration-color: #7f7f7f\">:5902</span>\n",
       "                             main_model, generating now.                                     \n",
       "</pre>\n"
      ],
      "text/plain": [
       "\u001b[2;36m                   \u001b[0m\u001b[2;36m \u001b[0m\u001b[31mWARNING \u001b[0m Fluxes have not yet been generated for            \u001b]8;id=1638923662.150501-897900;file:///Users/russojd/Research/molssi_2021/msmWE_cc/msm_we/msm_we/msm_we.py\u001b\\\u001b[2mmsm_we.py\u001b[0m\u001b]8;;\u001b\\\u001b[2m:5902\u001b[0m\n",
       "                             main_model, generating now.                                     \n"
      ]
     },
     "metadata": {},
     "output_type": "display_data"
    },
    {
     "data": {
      "text/plain": [
       "<AxesSubplot:xlabel='Pcoord 0', ylabel='Flux (weight/second'>"
      ]
     },
     "execution_count": 16,
     "metadata": {},
     "output_type": "execute_result"
    },
    {
     "data": {
      "image/png": "[encoded data removed]",
      "text/plain": [
       "<Figure size 720x288 with 1 Axes>"
      ]
     },
     "metadata": {
      "needs_background": "light"
     },
     "output_type": "display_data"
    }
   ],
   "source": [
    "model.plot_flux(suppress_validation=True)"
   ]
  },
  {
   "cell_type": "markdown",
   "id": "1a47687d-5191-4f9d-83ad-38135bb56890",
   "metadata": {},
   "source": [
    "Although that's useful, plotting against progress coordinate may be misleading, since the transition region may not be evenly distributed in progress coordinate space.\n",
    "\n",
    "To see if that's the case, let's look at the committor vs progress coordinate for our clusters.\n",
    "\n",
    "The committor is 1 at the target state, and 0 at the source. So by looking at this plot, and seeing where the committor starts to break away from 0, we can get an idea of where the transition region is.\n",
    "\n",
    "If you had a \"perfect\" progress coordinate, this would be a diagonal line."
   ]
  },
  {
   "cell_type": "code",
   "execution_count": 17,
   "id": "caa3b24d-451c-4fcd-8dbe-5978459e96ea",
   "metadata": {
    "execution": {
     "iopub.execute_input": "2021-12-08T00:34:24.006806Z",
     "iopub.status.busy": "2021-12-08T00:34:24.006559Z",
     "iopub.status.idle": "2021-12-08T00:34:25.728156Z",
     "shell.execute_reply": "2021-12-08T00:34:25.727386Z",
     "shell.execute_reply.started": "2021-12-08T00:34:24.006779Z"
    },
    "tags": []
   },
   "outputs": [
    {
     "data": {
      "text/html": [
       "<pre style=\"white-space:pre;overflow-x:auto;line-height:normal;font-family:Menlo,'DejaVu Sans Mono',consolas,'Courier New',monospace\"><span style=\"color: #7fbfbf; text-decoration-color: #7fbfbf\">[12/07/21 16:34:24] </span><span style=\"color: #800000; text-decoration-color: #800000\">WARNING </span> Note that, if steady-state weighted ensemble data <a href=\"file:///Users/russojd/Research/molssi_2021/msmWE_cc/msm_we/msm_we/msm_we.py\"><span style=\"color: #7f7f7f; text-decoration-color: #7f7f7f\">msm_we.py</span></a><span style=\"color: #7f7f7f; text-decoration-color: #7f7f7f\">:6687</span>\n",
       "                             is being analyzed, this is a <span style=\"color: #008000; text-decoration-color: #008000\">'pseudocommittor'</span>                  \n",
       "                             and not a true committor as a result of being                   \n",
       "                             constructed from a one-way ensemble.                            \n",
       "</pre>\n"
      ],
      "text/plain": [
       "\u001b[2;36m[12/07/21 16:34:24]\u001b[0m\u001b[2;36m \u001b[0m\u001b[31mWARNING \u001b[0m Note that, if steady-state weighted ensemble data \u001b]8;id=1638923664.009921-949467;file:///Users/russojd/Research/molssi_2021/msmWE_cc/msm_we/msm_we/msm_we.py\u001b\\\u001b[2mmsm_we.py\u001b[0m\u001b]8;;\u001b\\\u001b[2m:6687\u001b[0m\n",
       "                             is being analyzed, this is a \u001b[32m'pseudocommittor'\u001b[0m                  \n",
       "                             and not a true committor as a result of being                   \n",
       "                             constructed from a one-way ensemble.                            \n"
      ]
     },
     "metadata": {},
     "output_type": "display_data"
    },
    {
     "data": {
      "application/vnd.jupyter.widget-view+json": {
       "model_id": "fbb69315022841dc81c7395d37153fcf",
       "version_major": 2,
       "version_minor": 0
      },
      "text/plain": [
       "  0%|          | 0/5.0 [00:00<?, ?it/s]"
      ]
     },
     "metadata": {},
     "output_type": "display_data"
    },
    {
     "data": {
      "text/html": [
       "<pre style=\"white-space:pre;overflow-x:auto;line-height:normal;font-family:Menlo,'DejaVu Sans Mono',consolas,'Courier New',monospace\"><span style=\"color: #7fbfbf; text-decoration-color: #7fbfbf\">                    </span><span style=\"color: #800000; text-decoration-color: #800000\">WARNING </span> Note that, if steady-state weighted ensemble data <a href=\"file:///Users/russojd/Research/molssi_2021/msmWE_cc/msm_we/msm_we/msm_we.py\"><span style=\"color: #7f7f7f; text-decoration-color: #7f7f7f\">msm_we.py</span></a><span style=\"color: #7f7f7f; text-decoration-color: #7f7f7f\">:6687</span>\n",
       "                             is being analyzed, this is a <span style=\"color: #008000; text-decoration-color: #008000\">'pseudocommittor'</span>                  \n",
       "                             and not a true committor as a result of being                   \n",
       "                             constructed from a one-way ensemble.                            \n",
       "</pre>\n"
      ],
      "text/plain": [
       "\u001b[2;36m                   \u001b[0m\u001b[2;36m \u001b[0m\u001b[31mWARNING \u001b[0m Note that, if steady-state weighted ensemble data \u001b]8;id=1638923664.182632-48594;file:///Users/russojd/Research/molssi_2021/msmWE_cc/msm_we/msm_we/msm_we.py\u001b\\\u001b[2mmsm_we.py\u001b[0m\u001b]8;;\u001b\\\u001b[2m:6687\u001b[0m\n",
       "                             is being analyzed, this is a \u001b[32m'pseudocommittor'\u001b[0m                  \n",
       "                             and not a true committor as a result of being                   \n",
       "                             constructed from a one-way ensemble.                            \n"
      ]
     },
     "metadata": {},
     "output_type": "display_data"
    },
    {
     "data": {
      "image/png": "[encoded data removed]",
      "text/plain": [
       "<Figure size 576x432 with 1 Axes>"
      ]
     },
     "metadata": {
      "needs_background": "light"
     },
     "output_type": "display_data"
    }
   ],
   "source": [
    "model.get_committor()\n",
    "model.plot_committor()"
   ]
  },
  {
   "cell_type": "markdown",
   "id": "012bb0a9-ea9a-4e04-b569-c6a5f314fd94",
   "metadata": {},
   "source": [
    "Now that we've seen that the progress coordinate and the committor describe our space differently, let's look at a flux profile plotted against the committor."
   ]
  },
  {
   "cell_type": "code",
   "execution_count": 18,
   "id": "28751811-8490-47a5-b677-3e245d62ab7c",
   "metadata": {
    "execution": {
     "iopub.execute_input": "2021-12-08T00:34:25.729675Z",
     "iopub.status.busy": "2021-12-08T00:34:25.729244Z",
     "iopub.status.idle": "2021-12-08T00:34:27.568169Z",
     "shell.execute_reply": "2021-12-08T00:34:27.567579Z",
     "shell.execute_reply.started": "2021-12-08T00:34:25.729647Z"
    },
    "tags": []
   },
   "outputs": [
    {
     "data": {
      "text/html": [
       "<pre style=\"white-space:pre;overflow-x:auto;line-height:normal;font-family:Menlo,'DejaVu Sans Mono',consolas,'Courier New',monospace\"><span style=\"color: #7fbfbf; text-decoration-color: #7fbfbf\">[12/07/21 16:34:25] </span><span style=\"background-color: #800000; font-weight: bold\">CRITICAL</span> No cross-validation models have been generated!   <a href=\"file:///Users/russojd/Research/molssi_2021/msmWE_cc/msm_we/msm_we/msm_we.py\"><span style=\"color: #7f7f7f; text-decoration-color: #7f7f7f\">msm_we.py</span></a><span style=\"color: #7f7f7f; text-decoration-color: #7f7f7f\">:5724</span>\n",
       "                             Do this before making plots.                                    \n",
       "</pre>\n"
      ],
      "text/plain": [
       "\u001b[2;36m[12/07/21 16:34:25]\u001b[0m\u001b[2;36m \u001b[0m\u001b[1;7;31mCRITICAL\u001b[0m No cross-validation models have been generated!   \u001b]8;id=1638923665.7324958-340304;file:///Users/russojd/Research/molssi_2021/msmWE_cc/msm_we/msm_we/msm_we.py\u001b\\\u001b[2mmsm_we.py\u001b[0m\u001b]8;;\u001b\\\u001b[2m:5724\u001b[0m\n",
       "                             Do this before making plots.                                    \n"
      ]
     },
     "metadata": {},
     "output_type": "display_data"
    },
    {
     "data": {
      "text/html": [
       "<pre style=\"white-space:pre;overflow-x:auto;line-height:normal;font-family:Menlo,'DejaVu Sans Mono',consolas,'Courier New',monospace\"><span style=\"color: #7fbfbf; text-decoration-color: #7fbfbf\">                    </span><span style=\"color: #800000; text-decoration-color: #800000\">WARNING </span> Committor-fluxes have not yet been generated for  <a href=\"file:///Users/russojd/Research/molssi_2021/msmWE_cc/msm_we/msm_we/msm_we.py\"><span style=\"color: #7f7f7f; text-decoration-color: #7f7f7f\">msm_we.py</span></a><span style=\"color: #7f7f7f; text-decoration-color: #7f7f7f\">:5756</span>\n",
       "                             main_model, generating now.                                     \n",
       "</pre>\n"
      ],
      "text/plain": [
       "\u001b[2;36m                   \u001b[0m\u001b[2;36m \u001b[0m\u001b[31mWARNING \u001b[0m Committor-fluxes have not yet been generated for  \u001b]8;id=1638923665.7663958-275619;file:///Users/russojd/Research/molssi_2021/msmWE_cc/msm_we/msm_we/msm_we.py\u001b\\\u001b[2mmsm_we.py\u001b[0m\u001b]8;;\u001b\\\u001b[2m:5756\u001b[0m\n",
       "                             main_model, generating now.                                     \n"
      ]
     },
     "metadata": {},
     "output_type": "display_data"
    },
    {
     "data": {
      "application/vnd.jupyter.widget-view+json": {
       "model_id": "03288271e4a84cbda6ef1fc8fcf551c5",
       "version_major": 2,
       "version_minor": 0
      },
      "text/plain": [
       "Obtaining pseudocommittor-fluxes:   0%|          | 0/227 [00:00<?, ?it/s]"
      ]
     },
     "metadata": {},
     "output_type": "display_data"
    },
    {
     "data": {
      "text/html": [
       "<pre style=\"white-space:pre;overflow-x:auto;line-height:normal;font-family:Menlo,'DejaVu Sans Mono',consolas,'Courier New',monospace\"><span style=\"color: #7fbfbf; text-decoration-color: #7fbfbf\">[12/07/21 16:34:27] </span><span style=\"color: #800000; text-decoration-color: #800000\">WARNING </span> Note that, if steady-state weighted ensemble data <a href=\"file:///Users/russojd/Research/molssi_2021/msmWE_cc/msm_we/msm_we/msm_we.py\"><span style=\"color: #7f7f7f; text-decoration-color: #7f7f7f\">msm_we.py</span></a><span style=\"color: #7f7f7f; text-decoration-color: #7f7f7f\">:6687</span>\n",
       "                             is being analyzed, this is a <span style=\"color: #008000; text-decoration-color: #008000\">'pseudocommittor'</span>                  \n",
       "                             and not a true committor as a result of being                   \n",
       "                             constructed from a one-way ensemble.                            \n",
       "</pre>\n"
      ],
      "text/plain": [
       "\u001b[2;36m[12/07/21 16:34:27]\u001b[0m\u001b[2;36m \u001b[0m\u001b[31mWARNING \u001b[0m Note that, if steady-state weighted ensemble data \u001b]8;id=1638923667.4078982-151389;file:///Users/russojd/Research/molssi_2021/msmWE_cc/msm_we/msm_we/msm_we.py\u001b\\\u001b[2mmsm_we.py\u001b[0m\u001b]8;;\u001b\\\u001b[2m:6687\u001b[0m\n",
       "                             is being analyzed, this is a \u001b[32m'pseudocommittor'\u001b[0m                  \n",
       "                             and not a true committor as a result of being                   \n",
       "                             constructed from a one-way ensemble.                            \n"
      ]
     },
     "metadata": {},
     "output_type": "display_data"
    },
    {
     "data": {
      "image/png": "[encoded data removed]",
      "text/plain": [
       "<Figure size 720x288 with 1 Axes>"
      ]
     },
     "metadata": {
      "needs_background": "light"
     },
     "output_type": "display_data"
    }
   ],
   "source": [
    "model.plot_flux_committor(suppress_validation=True)\n",
    "plt.gca().set_xscale('linear')"
   ]
  },
  {
   "cell_type": "markdown",
   "id": "8bc3be15-0ee7-4e03-a186-04d13ba00103",
   "metadata": {},
   "source": [
    "This likely looks much flatter, which tells us that the flux is level in the transition region, an important metric for convergence."
   ]
  },
  {
   "cell_type": "markdown",
   "id": "b280299d-61a4-4620-a3b2-a8910766fd39",
   "metadata": {},
   "source": [
    "## Simple automatic model-building"
   ]
  },
  {
   "cell_type": "markdown",
   "id": "72cc7623-1e2b-4b62-a449-d950762c3a93",
   "metadata": {},
   "source": [
    "Now, the easy way.\n",
    "\n",
    "`msm_we` provides the `modelWE.build_analyze_model()` function, which will execute all the necessary steps to load your data, construct an MSM, and cross-validate the result.\n",
    "\n",
    "This is convenient, although for more detailed debugging, it can be useful to run the individual steps one by one as described above."
   ]
  },
  {
   "cell_type": "code",
   "execution_count": 19,
   "id": "d575f2e1-5ffe-4f8c-a447-ea13b16519e4",
   "metadata": {
    "execution": {
     "iopub.execute_input": "2021-12-08T00:34:27.569328Z",
     "iopub.status.busy": "2021-12-08T00:34:27.569031Z",
     "iopub.status.idle": "2021-12-08T00:34:27.572740Z",
     "shell.execute_reply": "2021-12-08T00:34:27.572185Z",
     "shell.execute_reply.started": "2021-12-08T00:34:27.569306Z"
    },
    "tags": []
   },
   "outputs": [],
   "source": [
    "from msm_we import msm_we\n",
    "import numpy as np\n",
    "import mdtraj as md"
   ]
  },
  {
   "cell_type": "code",
   "execution_count": 20,
   "id": "6c05b71a-6a92-4c01-be65-9dfdc91e710d",
   "metadata": {
    "execution": {
     "iopub.execute_input": "2021-12-08T00:34:27.574102Z",
     "iopub.status.busy": "2021-12-08T00:34:27.573734Z",
     "iopub.status.idle": "2021-12-08T00:34:27.582187Z",
     "shell.execute_reply": "2021-12-08T00:34:27.581074Z",
     "shell.execute_reply.started": "2021-12-08T00:34:27.574082Z"
    },
    "tags": []
   },
   "outputs": [],
   "source": [
    "def processCoordinates(self, coords):\n",
    "\n",
    "    if self.dimReduceMethod == \"none\":\n",
    "        nC = np.shape(coords)\n",
    "        nC = nC[0]\n",
    "        data = coords.reshape(nC, 3 * self.nAtoms)\n",
    "        return data\n",
    "\n",
    "    elif self.dimReduceMethod == \"pca\":\n",
    "\n",
    "        # Dimensionality reduction \n",
    "\n",
    "        xt = md.Trajectory(xyz=coords, topology=None)\n",
    "        indCA = self.reference_structure.topology.select(\"name CA\")\n",
    "        pair1, pair2 = np.meshgrid(indCA, indCA, indexing=\"xy\")\n",
    "        indUT = np.where(np.triu(pair1, k=1) > 0)\n",
    "        pairs = np.transpose(np.array([pair1[indUT], pair2[indUT]])).astype(int)\n",
    "        dist = md.compute_distances(xt, pairs, periodic=True, opt=True)\n",
    "        \n",
    "        return dist\n",
    "    \n",
    "msm_we.modelWE.processCoordinates = processCoordinates"
   ]
  },
  {
   "cell_type": "code",
   "execution_count": 21,
   "id": "924b2661-fe29-4676-ad97-62cc5e2b8109",
   "metadata": {
    "execution": {
     "iopub.execute_input": "2021-12-08T00:34:27.583381Z",
     "iopub.status.busy": "2021-12-08T00:34:27.583186Z",
     "iopub.status.idle": "2021-12-08T00:37:17.539186Z",
     "shell.execute_reply": "2021-12-08T00:37:17.538570Z",
     "shell.execute_reply.started": "2021-12-08T00:34:27.583360Z"
    },
    "tags": []
   },
   "outputs": [
    {
     "data": {
      "application/vnd.jupyter.widget-view+json": {
       "model_id": "abb7817c770f429b814dc87344197375",
       "version_major": 2,
       "version_minor": 0
      },
      "text/plain": [
       "Output()"
      ]
     },
     "metadata": {},
     "output_type": "display_data"
    },
    {
     "data": {
      "application/vnd.jupyter.widget-view+json": {
       "model_id": "d0cbb391469b45f6bea0112fa7c00c5e",
       "version_major": 2,
       "version_minor": 0
      },
      "text/plain": [
       "Getting coordSet:   0%|          | 0/100 [00:00<?, ?it/s]"
      ]
     },
     "metadata": {},
     "output_type": "display_data"
    },
    {
     "name": "stderr",
     "output_type": "stream",
     "text": [
      "/Users/russojd/opt/anaconda3/envs/westpa_openmm/lib/python3.9/site-packages/sklearn/decomposition/_incremental_pca.py:316: RuntimeWarning: Mean of empty slice.\n",
      "  explained_variance[self.n_components_:].mean()\n",
      "/Users/russojd/opt/anaconda3/envs/westpa_openmm/lib/python3.9/site-packages/numpy/core/_methods.py:189: RuntimeWarning: invalid value encountered in true_divide\n",
      "  ret = ret.dtype.type(ret / rcount)\n"
     ]
    },
    {
     "data": {
      "application/vnd.jupyter.widget-view+json": {
       "model_id": "ca9daa9e79454f6eaf6d03ef22746036",
       "version_major": 2,
       "version_minor": 0
      },
      "text/plain": [
       "iPCA:   0%|          | 0/99 [00:00<?, ?it/s]"
      ]
     },
     "metadata": {},
     "output_type": "display_data"
    },
    {
     "data": {
      "text/html": [
       "<pre style=\"white-space:pre;overflow-x:auto;line-height:normal;font-family:Menlo,'DejaVu Sans Mono',consolas,'Courier New',monospace\"><span style=\"color: #7fbfbf; text-decoration-color: #7fbfbf\">[12/07/21 16:35:20] </span><span style=\"color: #000080; text-decoration-color: #000080\">INFO    </span> Be aware: Number of cluster centers is an         <a href=\"file:///Users/russojd/Research/molssi_2021/msmWE_cc/msm_we/msm_we/msm_we.py\"><span style=\"color: #7f7f7f; text-decoration-color: #7f7f7f\">msm_we.py</span></a><span style=\"color: #7f7f7f; text-decoration-color: #7f7f7f\">:2940</span>\n",
       "                             important parameter, and can drastically affect                 \n",
       "                             model quality. We recommend examining                           \n",
       "                             block-validation results with a range of numbers                \n",
       "                             of clusters, to check for overfitting.                          \n",
       "</pre>\n"
      ],
      "text/plain": [
       "\u001b[2;36m[12/07/21 16:35:20]\u001b[0m\u001b[2;36m \u001b[0m\u001b[34mINFO    \u001b[0m Be aware: Number of cluster centers is an         \u001b]8;id=1638923720.0649118-67962;file:///Users/russojd/Research/molssi_2021/msmWE_cc/msm_we/msm_we/msm_we.py\u001b\\\u001b[2mmsm_we.py\u001b[0m\u001b]8;;\u001b\\\u001b[2m:2940\u001b[0m\n",
       "                             important parameter, and can drastically affect                 \n",
       "                             model quality. We recommend examining                           \n",
       "                             block-validation results with a range of numbers                \n",
       "                             of clusters, to check for overfitting.                          \n"
      ]
     },
     "metadata": {},
     "output_type": "display_data"
    },
    {
     "data": {
      "text/html": [
       "<pre style=\"white-space:pre;overflow-x:auto;line-height:normal;font-family:Menlo,'DejaVu Sans Mono',consolas,'Courier New',monospace\"><span style=\"color: #7fbfbf; text-decoration-color: #7fbfbf\">                    </span><span style=\"color: #000080; text-decoration-color: #000080\">INFO    </span> Beginning stratified clustering.                  <a href=\"file:///Users/russojd/Research/molssi_2021/msmWE_cc/msm_we/msm_we/msm_we.py\"><span style=\"color: #7f7f7f; text-decoration-color: #7f7f7f\">msm_we.py</span></a><span style=\"color: #7f7f7f; text-decoration-color: #7f7f7f\">:2947</span>\n",
       "</pre>\n"
      ],
      "text/plain": [
       "\u001b[2;36m                   \u001b[0m\u001b[2;36m \u001b[0m\u001b[34mINFO    \u001b[0m Beginning stratified clustering.                  \u001b]8;id=1638923720.067403-785430;file:///Users/russojd/Research/molssi_2021/msmWE_cc/msm_we/msm_we/msm_we.py\u001b\\\u001b[2mmsm_we.py\u001b[0m\u001b]8;;\u001b\\\u001b[2m:2947\u001b[0m\n"
      ]
     },
     "metadata": {},
     "output_type": "display_data"
    },
    {
     "data": {
      "text/html": [
       "<pre style=\"white-space:pre;overflow-x:auto;line-height:normal;font-family:Menlo,'DejaVu Sans Mono',consolas,'Courier New',monospace\"><span style=\"color: #7fbfbf; text-decoration-color: #7fbfbf\">                    </span><span style=\"color: #000080; text-decoration-color: #000080\">INFO    </span> Obtaining bin definitions from iteration <span style=\"color: #008080; text-decoration-color: #008080; font-weight: bold\">2</span> in     <a href=\"file:///Users/russojd/Research/molssi_2021/msmWE_cc/msm_we/msm_we/msm_we.py\"><span style=\"color: #7f7f7f; text-decoration-color: #7f7f7f\">msm_we.py</span></a><span style=\"color: #7f7f7f; text-decoration-color: #7f7f7f\">:3364</span>\n",
       "                             file restart0/run1/west.h5                                      \n",
       "</pre>\n"
      ],
      "text/plain": [
       "\u001b[2;36m                   \u001b[0m\u001b[2;36m \u001b[0m\u001b[34mINFO    \u001b[0m Obtaining bin definitions from iteration \u001b[1;36m2\u001b[0m in     \u001b]8;id=1638923720.070007-528585;file:///Users/russojd/Research/molssi_2021/msmWE_cc/msm_we/msm_we/msm_we.py\u001b\\\u001b[2mmsm_we.py\u001b[0m\u001b]8;;\u001b\\\u001b[2m:3364\u001b[0m\n",
       "                             file restart0/run1/west.h5                                      \n"
      ]
     },
     "metadata": {},
     "output_type": "display_data"
    },
    {
     "data": {
      "text/html": [
       "<pre style=\"white-space:pre;overflow-x:auto;line-height:normal;font-family:Menlo,'DejaVu Sans Mono',consolas,'Courier New',monospace\"><span style=\"color: #7fbfbf; text-decoration-color: #7fbfbf\">                    </span><span style=\"color: #000080; text-decoration-color: #000080\">INFO    </span> Loading pickled bin mapper from H5 for stratified <a href=\"file:///Users/russojd/Research/molssi_2021/msmWE_cc/msm_we/msm_we/msm_we.py\"><span style=\"color: #7f7f7f; text-decoration-color: #7f7f7f\">msm_we.py</span></a><span style=\"color: #7f7f7f; text-decoration-color: #7f7f7f\">:3368</span>\n",
       "                             clustering<span style=\"color: #808000; text-decoration-color: #808000\">...</span>                                                   \n",
       "</pre>\n"
      ],
      "text/plain": [
       "\u001b[2;36m                   \u001b[0m\u001b[2;36m \u001b[0m\u001b[34mINFO    \u001b[0m Loading pickled bin mapper from H5 for stratified \u001b]8;id=1638923720.077753-923807;file:///Users/russojd/Research/molssi_2021/msmWE_cc/msm_we/msm_we/msm_we.py\u001b\\\u001b[2mmsm_we.py\u001b[0m\u001b]8;;\u001b\\\u001b[2m:3368\u001b[0m\n",
       "                             clustering\u001b[33m...\u001b[0m                                                   \n"
      ]
     },
     "metadata": {},
     "output_type": "display_data"
    },
    {
     "data": {
      "text/html": [
       "<pre style=\"white-space:pre;overflow-x:auto;line-height:normal;font-family:Menlo,'DejaVu Sans Mono',consolas,'Courier New',monospace\"><span style=\"color: #7fbfbf; text-decoration-color: #7fbfbf\">                    </span><span style=\"color: #000080; text-decoration-color: #000080\">INFO    </span> Doing stratified clustering with <span style=\"color: #008080; text-decoration-color: #008080; font-weight: bold\">106</span> total         <a href=\"file:///Users/russojd/Research/molssi_2021/msmWE_cc/msm_we/msm_we/msm_we.py\"><span style=\"color: #7f7f7f; text-decoration-color: #7f7f7f\">msm_we.py</span></a><span style=\"color: #7f7f7f; text-decoration-color: #7f7f7f\">:250</span>\n",
       "                             clusters                                                        \n",
       "</pre>\n"
      ],
      "text/plain": [
       "\u001b[2;36m                   \u001b[0m\u001b[2;36m \u001b[0m\u001b[34mINFO    \u001b[0m Doing stratified clustering with \u001b[1;36m106\u001b[0m total         \u001b]8;id=1638923720.083502-37321;file:///Users/russojd/Research/molssi_2021/msmWE_cc/msm_we/msm_we/msm_we.py\u001b\\\u001b[2mmsm_we.py\u001b[0m\u001b]8;;\u001b\\\u001b[2m:250\u001b[0m\n",
       "                             clusters                                                        \n"
      ]
     },
     "metadata": {},
     "output_type": "display_data"
    },
    {
     "data": {
      "application/vnd.jupyter.widget-view+json": {
       "model_id": "154e7da46e4c4792b9bc3860367872cf",
       "version_major": 2,
       "version_minor": 0
      },
      "text/plain": [
       "Clustering:   0%|          | 0/99 [00:00<?, ?it/s]"
      ]
     },
     "metadata": {},
     "output_type": "display_data"
    },
    {
     "data": {
      "text/html": [
       "<pre style=\"white-space:pre;overflow-x:auto;line-height:normal;font-family:Menlo,'DejaVu Sans Mono',consolas,'Courier New',monospace\"><span style=\"color: #7fbfbf; text-decoration-color: #7fbfbf\">[12/07/21 16:35:55] </span><span style=\"color: #000080; text-decoration-color: #000080\">INFO    </span> Using Ray cluster with <span style=\"color: #008080; text-decoration-color: #008080; font-weight: bold\">4.0</span> CPUs!                   <a href=\"file:///Users/russojd/Research/molssi_2021/msmWE_cc/msm_we/msm_we/msm_we.py\"><span style=\"color: #7f7f7f; text-decoration-color: #7f7f7f\">msm_we.py</span></a><span style=\"color: #7f7f7f; text-decoration-color: #7f7f7f\">:869</span>\n",
       "</pre>\n"
      ],
      "text/plain": [
       "\u001b[2;36m[12/07/21 16:35:55]\u001b[0m\u001b[2;36m \u001b[0m\u001b[34mINFO    \u001b[0m Using Ray cluster with \u001b[1;36m4.0\u001b[0m CPUs!                   \u001b]8;id=1638923755.9287329-799184;file:///Users/russojd/Research/molssi_2021/msmWE_cc/msm_we/msm_we/msm_we.py\u001b\\\u001b[2mmsm_we.py\u001b[0m\u001b]8;;\u001b\\\u001b[2m:869\u001b[0m\n"
      ]
     },
     "metadata": {},
     "output_type": "display_data"
    },
    {
     "data": {
      "application/vnd.jupyter.widget-view+json": {
       "model_id": "131b276f493e4a2d8aefe5db1f9a19cd",
       "version_major": 2,
       "version_minor": 0
      },
      "text/plain": [
       "Submitting discretization tasks:   0%|          | 0/99 [00:00<?, ?it/s]"
      ]
     },
     "metadata": {},
     "output_type": "display_data"
    },
    {
     "data": {
      "application/vnd.jupyter.widget-view+json": {
       "model_id": "38f663b9d4854b81ac668683ca6305a8",
       "version_major": 2,
       "version_minor": 0
      },
      "text/plain": [
       "Retrieving discretized trajectories:   0%|          | 0/99 [00:00<?, ?it/s]"
      ]
     },
     "metadata": {},
     "output_type": "display_data"
    },
    {
     "data": {
      "text/html": [
       "<pre style=\"white-space:pre;overflow-x:auto;line-height:normal;font-family:Menlo,'DejaVu Sans Mono',consolas,'Courier New',monospace\"><span style=\"color: #7fbfbf; text-decoration-color: #7fbfbf\">[12/07/21 16:36:05] </span><span style=\"color: #000080; text-decoration-color: #000080\">INFO    </span> Discretization complete                           <a href=\"file:///Users/russojd/Research/molssi_2021/msmWE_cc/msm_we/msm_we/msm_we.py\"><span style=\"color: #7f7f7f; text-decoration-color: #7f7f7f\">msm_we.py</span></a><span style=\"color: #7f7f7f; text-decoration-color: #7f7f7f\">:3993</span>\n",
       "</pre>\n"
      ],
      "text/plain": [
       "\u001b[2;36m[12/07/21 16:36:05]\u001b[0m\u001b[2;36m \u001b[0m\u001b[34mINFO    \u001b[0m Discretization complete                           \u001b]8;id=1638923765.2515662-76801;file:///Users/russojd/Research/molssi_2021/msmWE_cc/msm_we/msm_we/msm_we.py\u001b\\\u001b[2mmsm_we.py\u001b[0m\u001b]8;;\u001b\\\u001b[2m:3993\u001b[0m\n"
      ]
     },
     "metadata": {},
     "output_type": "display_data"
    },
    {
     "data": {
      "text/html": [
       "<pre style=\"white-space:pre;overflow-x:auto;line-height:normal;font-family:Menlo,'DejaVu Sans Mono',consolas,'Courier New',monospace\"><span style=\"color: #7fbfbf; text-decoration-color: #7fbfbf\">                    </span><span style=\"color: #000080; text-decoration-color: #000080\">INFO    </span> Using Ray cluster with <span style=\"color: #008080; text-decoration-color: #008080; font-weight: bold\">4.0</span> CPUs!                   <a href=\"file:///Users/russojd/Research/molssi_2021/msmWE_cc/msm_we/msm_we/msm_we.py\"><span style=\"color: #7f7f7f; text-decoration-color: #7f7f7f\">msm_we.py</span></a><span style=\"color: #7f7f7f; text-decoration-color: #7f7f7f\">:869</span>\n",
       "</pre>\n"
      ],
      "text/plain": [
       "\u001b[2;36m                   \u001b[0m\u001b[2;36m \u001b[0m\u001b[34mINFO    \u001b[0m Using Ray cluster with \u001b[1;36m4.0\u001b[0m CPUs!                   \u001b]8;id=1638923765.295447-152676;file:///Users/russojd/Research/molssi_2021/msmWE_cc/msm_we/msm_we/msm_we.py\u001b\\\u001b[2mmsm_we.py\u001b[0m\u001b]8;;\u001b\\\u001b[2m:869\u001b[0m\n"
      ]
     },
     "metadata": {},
     "output_type": "display_data"
    },
    {
     "data": {
      "application/vnd.jupyter.widget-view+json": {
       "model_id": "e736dcccaa5146fd9cef25c8c7d92ec3",
       "version_major": 2,
       "version_minor": 0
      },
      "text/plain": [
       "Submitting fluxmatrix tasks:   0%|          | 0/99 [00:00<?, ?it/s]"
      ]
     },
     "metadata": {},
     "output_type": "display_data"
    },
    {
     "data": {
      "application/vnd.jupyter.widget-view+json": {
       "model_id": "f80d2755dca04a8d90fce0ab7bbf91c6",
       "version_major": 2,
       "version_minor": 0
      },
      "text/plain": [
       "Retrieving flux matrices:   0%|          | 0/99 [00:00<?, ?it/s]"
      ]
     },
     "metadata": {},
     "output_type": "display_data"
    },
    {
     "data": {
      "text/html": [
       "<pre style=\"white-space:pre;overflow-x:auto;line-height:normal;font-family:Menlo,'DejaVu Sans Mono',consolas,'Courier New',monospace\"><span style=\"color: #7fbfbf; text-decoration-color: #7fbfbf\">[12/07/21 16:36:19] </span><span style=\"color: #000080; text-decoration-color: #000080\">INFO    </span> Fluxmatrices all obtained                         <a href=\"file:///Users/russojd/Research/molssi_2021/msmWE_cc/msm_we/msm_we/msm_we.py\"><span style=\"color: #7f7f7f; text-decoration-color: #7f7f7f\">msm_we.py</span></a><span style=\"color: #7f7f7f; text-decoration-color: #7f7f7f\">:4624</span>\n",
       "</pre>\n"
      ],
      "text/plain": [
       "\u001b[2;36m[12/07/21 16:36:19]\u001b[0m\u001b[2;36m \u001b[0m\u001b[34mINFO    \u001b[0m Fluxmatrices all obtained                         \u001b]8;id=1638923779.033043-112965;file:///Users/russojd/Research/molssi_2021/msmWE_cc/msm_we/msm_we/msm_we.py\u001b\\\u001b[2mmsm_we.py\u001b[0m\u001b]8;;\u001b\\\u001b[2m:4624\u001b[0m\n"
      ]
     },
     "metadata": {},
     "output_type": "display_data"
    },
    {
     "data": {
      "text/html": [
       "<pre style=\"white-space:pre;overflow-x:auto;line-height:normal;font-family:Menlo,'DejaVu Sans Mono',consolas,'Courier New',monospace\"><span style=\"color: #7fbfbf; text-decoration-color: #7fbfbf\">                    </span><span style=\"color: #000080; text-decoration-color: #000080\">INFO    </span> Started with <span style=\"color: #008080; text-decoration-color: #008080; font-weight: bold\">106</span> clusters, and removed <span style=\"color: #008080; text-decoration-color: #008080; font-weight: bold\">47</span>         <a href=\"file:///Users/russojd/Research/molssi_2021/msmWE_cc/msm_we/msm_we/msm_we.py\"><span style=\"color: #7f7f7f; text-decoration-color: #7f7f7f\">msm_we.py</span></a><span style=\"color: #7f7f7f; text-decoration-color: #7f7f7f\">:3840</span>\n",
       "</pre>\n"
      ],
      "text/plain": [
       "\u001b[2;36m                   \u001b[0m\u001b[2;36m \u001b[0m\u001b[34mINFO    \u001b[0m Started with \u001b[1;36m106\u001b[0m clusters, and removed \u001b[1;36m47\u001b[0m         \u001b]8;id=1638923779.062724-11696;file:///Users/russojd/Research/molssi_2021/msmWE_cc/msm_we/msm_we/msm_we.py\u001b\\\u001b[2mmsm_we.py\u001b[0m\u001b]8;;\u001b\\\u001b[2m:3840\u001b[0m\n"
      ]
     },
     "metadata": {},
     "output_type": "display_data"
    },
    {
     "data": {
      "text/html": [
       "<pre style=\"white-space:pre;overflow-x:auto;line-height:normal;font-family:Menlo,'DejaVu Sans Mono',consolas,'Courier New',monospace\"><span style=\"color: #7fbfbf; text-decoration-color: #7fbfbf\">                    </span><span style=\"color: #800000; text-decoration-color: #800000\">WARNING </span> All clusters were cleaned from bins <span style=\"font-weight: bold\">{</span><span style=\"color: #008080; text-decoration-color: #008080; font-weight: bold\">0</span>, <span style=\"color: #008080; text-decoration-color: #008080; font-weight: bold\">52</span><span style=\"font-weight: bold\">}</span>       <a href=\"file:///Users/russojd/Research/molssi_2021/msmWE_cc/msm_we/msm_we/msm_we.py\"><span style=\"color: #7f7f7f; text-decoration-color: #7f7f7f\">msm_we.py</span></a><span style=\"color: #7f7f7f; text-decoration-color: #7f7f7f\">:3856</span>\n",
       "</pre>\n"
      ],
      "text/plain": [
       "\u001b[2;36m                   \u001b[0m\u001b[2;36m \u001b[0m\u001b[31mWARNING \u001b[0m All clusters were cleaned from bins \u001b[1m{\u001b[0m\u001b[1;36m0\u001b[0m, \u001b[1;36m52\u001b[0m\u001b[1m}\u001b[0m       \u001b]8;id=1638923779.065098-326077;file:///Users/russojd/Research/molssi_2021/msmWE_cc/msm_we/msm_we/msm_we.py\u001b\\\u001b[2mmsm_we.py\u001b[0m\u001b]8;;\u001b\\\u001b[2m:3856\u001b[0m\n"
      ]
     },
     "metadata": {},
     "output_type": "display_data"
    },
    {
     "data": {
      "text/html": [
       "<pre style=\"white-space:pre;overflow-x:auto;line-height:normal;font-family:Menlo,'DejaVu Sans Mono',consolas,'Courier New',monospace\"><span style=\"color: #7fbfbf; text-decoration-color: #7fbfbf\">                    </span><span style=\"color: #000080; text-decoration-color: #000080\">INFO    </span> Using Ray cluster with <span style=\"color: #008080; text-decoration-color: #008080; font-weight: bold\">4.0</span> CPUs!                   <a href=\"file:///Users/russojd/Research/molssi_2021/msmWE_cc/msm_we/msm_we/msm_we.py\"><span style=\"color: #7f7f7f; text-decoration-color: #7f7f7f\">msm_we.py</span></a><span style=\"color: #7f7f7f; text-decoration-color: #7f7f7f\">:869</span>\n",
       "</pre>\n"
      ],
      "text/plain": [
       "\u001b[2;36m                   \u001b[0m\u001b[2;36m \u001b[0m\u001b[34mINFO    \u001b[0m Using Ray cluster with \u001b[1;36m4.0\u001b[0m CPUs!                   \u001b]8;id=1638923779.069197-492458;file:///Users/russojd/Research/molssi_2021/msmWE_cc/msm_we/msm_we/msm_we.py\u001b\\\u001b[2mmsm_we.py\u001b[0m\u001b]8;;\u001b\\\u001b[2m:869\u001b[0m\n"
      ]
     },
     "metadata": {},
     "output_type": "display_data"
    },
    {
     "data": {
      "text/html": [
       "<pre style=\"white-space:pre;overflow-x:auto;line-height:normal;font-family:Menlo,'DejaVu Sans Mono',consolas,'Courier New',monospace\"><span style=\"color: #7fbfbf; text-decoration-color: #7fbfbf\">[12/07/21 16:36:28] </span><span style=\"color: #000080; text-decoration-color: #000080\">INFO    </span> Discretization complete                           <a href=\"file:///Users/russojd/Research/molssi_2021/msmWE_cc/msm_we/msm_we/msm_we.py\"><span style=\"color: #7f7f7f; text-decoration-color: #7f7f7f\">msm_we.py</span></a><span style=\"color: #7f7f7f; text-decoration-color: #7f7f7f\">:3993</span>\n",
       "</pre>\n"
      ],
      "text/plain": [
       "\u001b[2;36m[12/07/21 16:36:28]\u001b[0m\u001b[2;36m \u001b[0m\u001b[34mINFO    \u001b[0m Discretization complete                           \u001b]8;id=1638923788.22972-684933;file:///Users/russojd/Research/molssi_2021/msmWE_cc/msm_we/msm_we/msm_we.py\u001b\\\u001b[2mmsm_we.py\u001b[0m\u001b]8;;\u001b\\\u001b[2m:3993\u001b[0m\n"
      ]
     },
     "metadata": {},
     "output_type": "display_data"
    },
    {
     "name": "stderr",
     "output_type": "stream",
     "text": [
      "/Users/russojd/Research/molssi_2021/msmWE_cc/msm_we/msm_we/msm_we.py:4064: VisibleDeprecationWarning: Creating an ndarray from ragged nested sequences (which is a list-or-tuple of lists-or-tuples-or ndarrays with different lengths or shapes) is deprecated. If you meant to do this, you must specify 'dtype=object' when creating the ndarray.\n",
      "  self.targetRMSD_all = np.array(cluster_pcoord_all)[pcoord_sort_indices]\n"
     ]
    },
    {
     "data": {
      "text/html": [
       "<pre style=\"white-space:pre;overflow-x:auto;line-height:normal;font-family:Menlo,'DejaVu Sans Mono',consolas,'Courier New',monospace\"><span style=\"color: #7fbfbf; text-decoration-color: #7fbfbf\">                    </span><span style=\"color: #000080; text-decoration-color: #000080\">INFO    </span> Using Ray cluster with <span style=\"color: #008080; text-decoration-color: #008080; font-weight: bold\">4.0</span> CPUs!                   <a href=\"file:///Users/russojd/Research/molssi_2021/msmWE_cc/msm_we/msm_we/msm_we.py\"><span style=\"color: #7f7f7f; text-decoration-color: #7f7f7f\">msm_we.py</span></a><span style=\"color: #7f7f7f; text-decoration-color: #7f7f7f\">:869</span>\n",
       "</pre>\n"
      ],
      "text/plain": [
       "\u001b[2;36m                   \u001b[0m\u001b[2;36m \u001b[0m\u001b[34mINFO    \u001b[0m Using Ray cluster with \u001b[1;36m4.0\u001b[0m CPUs!                   \u001b]8;id=1638923788.334605-935151;file:///Users/russojd/Research/molssi_2021/msmWE_cc/msm_we/msm_we/msm_we.py\u001b\\\u001b[2mmsm_we.py\u001b[0m\u001b]8;;\u001b\\\u001b[2m:869\u001b[0m\n"
      ]
     },
     "metadata": {},
     "output_type": "display_data"
    },
    {
     "data": {
      "application/vnd.jupyter.widget-view+json": {
       "model_id": "6fca6487728a48429ce81b0d879fed17",
       "version_major": 2,
       "version_minor": 0
      },
      "text/plain": [
       "Submitting fluxmatrix tasks:   0%|          | 0/99 [00:00<?, ?it/s]"
      ]
     },
     "metadata": {},
     "output_type": "display_data"
    },
    {
     "data": {
      "application/vnd.jupyter.widget-view+json": {
       "model_id": "9f1ce1240d964e20bce8e4dc678cc9e4",
       "version_major": 2,
       "version_minor": 0
      },
      "text/plain": [
       "Retrieving flux matrices:   0%|          | 0/99 [00:00<?, ?it/s]"
      ]
     },
     "metadata": {},
     "output_type": "display_data"
    },
    {
     "data": {
      "text/html": [
       "<pre style=\"white-space:pre;overflow-x:auto;line-height:normal;font-family:Menlo,'DejaVu Sans Mono',consolas,'Courier New',monospace\"><span style=\"color: #7fbfbf; text-decoration-color: #7fbfbf\">[12/07/21 16:36:41] </span><span style=\"color: #000080; text-decoration-color: #000080\">INFO    </span> Fluxmatrices all obtained                         <a href=\"file:///Users/russojd/Research/molssi_2021/msmWE_cc/msm_we/msm_we/msm_we.py\"><span style=\"color: #7f7f7f; text-decoration-color: #7f7f7f\">msm_we.py</span></a><span style=\"color: #7f7f7f; text-decoration-color: #7f7f7f\">:4624</span>\n",
       "</pre>\n"
      ],
      "text/plain": [
       "\u001b[2;36m[12/07/21 16:36:41]\u001b[0m\u001b[2;36m \u001b[0m\u001b[34mINFO    \u001b[0m Fluxmatrices all obtained                         \u001b]8;id=1638923801.4028091-916374;file:///Users/russojd/Research/molssi_2021/msmWE_cc/msm_we/msm_we/msm_we.py\u001b\\\u001b[2mmsm_we.py\u001b[0m\u001b]8;;\u001b\\\u001b[2m:4624\u001b[0m\n"
      ]
     },
     "metadata": {},
     "output_type": "display_data"
    },
    {
     "data": {
      "text/html": [
       "<pre style=\"white-space:pre;overflow-x:auto;line-height:normal;font-family:Menlo,'DejaVu Sans Mono',consolas,'Courier New',monospace\"><span style=\"color: #7fbfbf; text-decoration-color: #7fbfbf\">                    </span><span style=\"color: #000080; text-decoration-color: #000080\">INFO    </span>                                                   <a href=\"file:///Users/russojd/Research/molssi_2021/msmWE_cc/msm_we/msm_we/msm_we.py\"><span style=\"color: #7f7f7f; text-decoration-color: #7f7f7f\">msm_we.py</span></a><span style=\"color: #7f7f7f; text-decoration-color: #7f7f7f\">:5267</span>\n",
       "                             Flux converged to <span style=\"color: #008080; text-decoration-color: #008080; font-weight: bold\">2.5438e-10</span> after <span style=\"color: #008080; text-decoration-color: #008080; font-weight: bold\">1</span> iterations                 \n",
       "                             of inverse iteration.                                           \n",
       "</pre>\n"
      ],
      "text/plain": [
       "\u001b[2;36m                   \u001b[0m\u001b[2;36m \u001b[0m\u001b[34mINFO    \u001b[0m                                                   \u001b]8;id=1638923801.4526699-537411;file:///Users/russojd/Research/molssi_2021/msmWE_cc/msm_we/msm_we/msm_we.py\u001b\\\u001b[2mmsm_we.py\u001b[0m\u001b]8;;\u001b\\\u001b[2m:5267\u001b[0m\n",
       "                             Flux converged to \u001b[1;36m2.5438e-10\u001b[0m after \u001b[1;36m1\u001b[0m iterations                 \n",
       "                             of inverse iteration.                                           \n"
      ]
     },
     "metadata": {},
     "output_type": "display_data"
    },
    {
     "data": {
      "text/html": [
       "<pre style=\"white-space:pre;overflow-x:auto;line-height:normal;font-family:Menlo,'DejaVu Sans Mono',consolas,'Courier New',monospace\"><span style=\"color: #7fbfbf; text-decoration-color: #7fbfbf\">                    </span><span style=\"color: #000080; text-decoration-color: #000080\">INFO    </span> Done with steady-state estimation.                <a href=\"file:///Users/russojd/Research/molssi_2021/msmWE_cc/msm_we/msm_we/msm_we.py\"><span style=\"color: #7f7f7f; text-decoration-color: #7f7f7f\">msm_we.py</span></a><span style=\"color: #7f7f7f; text-decoration-color: #7f7f7f\">:5278</span>\n",
       "</pre>\n"
      ],
      "text/plain": [
       "\u001b[2;36m                   \u001b[0m\u001b[2;36m \u001b[0m\u001b[34mINFO    \u001b[0m Done with steady-state estimation.                \u001b]8;id=1638923801.455214-59022;file:///Users/russojd/Research/molssi_2021/msmWE_cc/msm_we/msm_we/msm_we.py\u001b\\\u001b[2mmsm_we.py\u001b[0m\u001b]8;;\u001b\\\u001b[2m:5278\u001b[0m\n"
      ]
     },
     "metadata": {},
     "output_type": "display_data"
    },
    {
     "data": {
      "text/html": [
       "<pre style=\"white-space:pre;overflow-x:auto;line-height:normal;font-family:Menlo,'DejaVu Sans Mono',consolas,'Courier New',monospace\"><span style=\"color: #7fbfbf; text-decoration-color: #7fbfbf\">                    </span><span style=\"color: #000080; text-decoration-color: #000080\">INFO    </span> Beginning analysis of cross-validation group <span style=\"color: #008080; text-decoration-color: #008080; font-weight: bold\">1</span>/<span style=\"color: #008080; text-decoration-color: #008080; font-weight: bold\">2</span>. <a href=\"file:///Users/russojd/Research/molssi_2021/msmWE_cc/msm_we/msm_we/msm_we.py\"><span style=\"color: #7f7f7f; text-decoration-color: #7f7f7f\">msm_we.py</span></a><span style=\"color: #7f7f7f; text-decoration-color: #7f7f7f\">:1305</span>\n",
       "</pre>\n"
      ],
      "text/plain": [
       "\u001b[2;36m                   \u001b[0m\u001b[2;36m \u001b[0m\u001b[34mINFO    \u001b[0m Beginning analysis of cross-validation group \u001b[1;36m1\u001b[0m/\u001b[1;36m2\u001b[0m. \u001b]8;id=1638923801.4966881-538909;file:///Users/russojd/Research/molssi_2021/msmWE_cc/msm_we/msm_we/msm_we.py\u001b\\\u001b[2mmsm_we.py\u001b[0m\u001b]8;;\u001b\\\u001b[2m:1305\u001b[0m\n"
      ]
     },
     "metadata": {},
     "output_type": "display_data"
    },
    {
     "data": {
      "application/vnd.jupyter.widget-view+json": {
       "model_id": "a5cafeff0c7e43c391a8dd69efc7e1ec",
       "version_major": 2,
       "version_minor": 0
      },
      "text/plain": [
       "Submitting fluxmatrix tasks:   0%|          | 0/49 [00:00<?, ?it/s]"
      ]
     },
     "metadata": {},
     "output_type": "display_data"
    },
    {
     "data": {
      "application/vnd.jupyter.widget-view+json": {
       "model_id": "a30d3ae45d5042158adb37e75e6a4a56",
       "version_major": 2,
       "version_minor": 0
      },
      "text/plain": [
       "Retrieving flux matrices:   0%|          | 0/49 [00:00<?, ?it/s]"
      ]
     },
     "metadata": {},
     "output_type": "display_data"
    },
    {
     "data": {
      "text/html": [
       "<pre style=\"white-space:pre;overflow-x:auto;line-height:normal;font-family:Menlo,'DejaVu Sans Mono',consolas,'Courier New',monospace\"><span style=\"color: #7fbfbf; text-decoration-color: #7fbfbf\">[12/07/21 16:36:48] </span><span style=\"color: #000080; text-decoration-color: #000080\">INFO    </span> Fluxmatrices all obtained                         <a href=\"file:///Users/russojd/Research/molssi_2021/msmWE_cc/msm_we/msm_we/msm_we.py\"><span style=\"color: #7f7f7f; text-decoration-color: #7f7f7f\">msm_we.py</span></a><span style=\"color: #7f7f7f; text-decoration-color: #7f7f7f\">:4624</span>\n",
       "</pre>\n"
      ],
      "text/plain": [
       "\u001b[2;36m[12/07/21 16:36:48]\u001b[0m\u001b[2;36m \u001b[0m\u001b[34mINFO    \u001b[0m Fluxmatrices all obtained                         \u001b]8;id=1638923808.029181-178670;file:///Users/russojd/Research/molssi_2021/msmWE_cc/msm_we/msm_we/msm_we.py\u001b\\\u001b[2mmsm_we.py\u001b[0m\u001b]8;;\u001b\\\u001b[2m:4624\u001b[0m\n"
      ]
     },
     "metadata": {},
     "output_type": "display_data"
    },
    {
     "data": {
      "text/html": [
       "<pre style=\"white-space:pre;overflow-x:auto;line-height:normal;font-family:Menlo,'DejaVu Sans Mono',consolas,'Courier New',monospace\"><span style=\"color: #7fbfbf; text-decoration-color: #7fbfbf\">                    </span><span style=\"color: #000080; text-decoration-color: #000080\">INFO    </span> Started with <span style=\"color: #008080; text-decoration-color: #008080; font-weight: bold\">106</span> clusters, and removed <span style=\"color: #008080; text-decoration-color: #008080; font-weight: bold\">47</span>         <a href=\"file:///Users/russojd/Research/molssi_2021/msmWE_cc/msm_we/msm_we/msm_we.py\"><span style=\"color: #7f7f7f; text-decoration-color: #7f7f7f\">msm_we.py</span></a><span style=\"color: #7f7f7f; text-decoration-color: #7f7f7f\">:3840</span>\n",
       "</pre>\n"
      ],
      "text/plain": [
       "\u001b[2;36m                   \u001b[0m\u001b[2;36m \u001b[0m\u001b[34mINFO    \u001b[0m Started with \u001b[1;36m106\u001b[0m clusters, and removed \u001b[1;36m47\u001b[0m         \u001b]8;id=1638923808.054294-268031;file:///Users/russojd/Research/molssi_2021/msmWE_cc/msm_we/msm_we/msm_we.py\u001b\\\u001b[2mmsm_we.py\u001b[0m\u001b]8;;\u001b\\\u001b[2m:3840\u001b[0m\n"
      ]
     },
     "metadata": {},
     "output_type": "display_data"
    },
    {
     "data": {
      "text/html": [
       "<pre style=\"white-space:pre;overflow-x:auto;line-height:normal;font-family:Menlo,'DejaVu Sans Mono',consolas,'Courier New',monospace\"><span style=\"color: #7fbfbf; text-decoration-color: #7fbfbf\">                    </span><span style=\"color: #800000; text-decoration-color: #800000\">WARNING </span> All clusters were cleaned from bins <span style=\"font-weight: bold\">{</span><span style=\"color: #008080; text-decoration-color: #008080; font-weight: bold\">0</span>, <span style=\"color: #008080; text-decoration-color: #008080; font-weight: bold\">52</span><span style=\"font-weight: bold\">}</span>       <a href=\"file:///Users/russojd/Research/molssi_2021/msmWE_cc/msm_we/msm_we/msm_we.py\"><span style=\"color: #7f7f7f; text-decoration-color: #7f7f7f\">msm_we.py</span></a><span style=\"color: #7f7f7f; text-decoration-color: #7f7f7f\">:3856</span>\n",
       "</pre>\n"
      ],
      "text/plain": [
       "\u001b[2;36m                   \u001b[0m\u001b[2;36m \u001b[0m\u001b[31mWARNING \u001b[0m All clusters were cleaned from bins \u001b[1m{\u001b[0m\u001b[1;36m0\u001b[0m, \u001b[1;36m52\u001b[0m\u001b[1m}\u001b[0m       \u001b]8;id=1638923808.0575519-932553;file:///Users/russojd/Research/molssi_2021/msmWE_cc/msm_we/msm_we/msm_we.py\u001b\\\u001b[2mmsm_we.py\u001b[0m\u001b]8;;\u001b\\\u001b[2m:3856\u001b[0m\n"
      ]
     },
     "metadata": {},
     "output_type": "display_data"
    },
    {
     "data": {
      "text/html": [
       "<pre style=\"white-space:pre;overflow-x:auto;line-height:normal;font-family:Menlo,'DejaVu Sans Mono',consolas,'Courier New',monospace\"><span style=\"color: #7fbfbf; text-decoration-color: #7fbfbf\">                    </span><span style=\"color: #000080; text-decoration-color: #000080\">INFO    </span> Using Ray cluster with <span style=\"color: #008080; text-decoration-color: #008080; font-weight: bold\">4.0</span> CPUs!                   <a href=\"file:///Users/russojd/Research/molssi_2021/msmWE_cc/msm_we/msm_we/msm_we.py\"><span style=\"color: #7f7f7f; text-decoration-color: #7f7f7f\">msm_we.py</span></a><span style=\"color: #7f7f7f; text-decoration-color: #7f7f7f\">:869</span>\n",
       "</pre>\n"
      ],
      "text/plain": [
       "\u001b[2;36m                   \u001b[0m\u001b[2;36m \u001b[0m\u001b[34mINFO    \u001b[0m Using Ray cluster with \u001b[1;36m4.0\u001b[0m CPUs!                   \u001b]8;id=1638923808.062077-50383;file:///Users/russojd/Research/molssi_2021/msmWE_cc/msm_we/msm_we/msm_we.py\u001b\\\u001b[2mmsm_we.py\u001b[0m\u001b]8;;\u001b\\\u001b[2m:869\u001b[0m\n"
      ]
     },
     "metadata": {},
     "output_type": "display_data"
    },
    {
     "data": {
      "application/vnd.jupyter.widget-view+json": {
       "model_id": "a96ae60b85bd4b4b9eb7ea9ad38515ed",
       "version_major": 2,
       "version_minor": 0
      },
      "text/plain": [
       "Submitting discretization tasks:   0%|          | 0/99 [00:00<?, ?it/s]"
      ]
     },
     "metadata": {},
     "output_type": "display_data"
    },
    {
     "data": {
      "application/vnd.jupyter.widget-view+json": {
       "model_id": "508ebcc25a7d4c48943e90e6596fa6b7",
       "version_major": 2,
       "version_minor": 0
      },
      "text/plain": [
       "Retrieving discretized trajectories:   0%|          | 0/99 [00:00<?, ?it/s]"
      ]
     },
     "metadata": {},
     "output_type": "display_data"
    },
    {
     "data": {
      "text/html": [
       "<pre style=\"white-space:pre;overflow-x:auto;line-height:normal;font-family:Menlo,'DejaVu Sans Mono',consolas,'Courier New',monospace\"><span style=\"color: #7fbfbf; text-decoration-color: #7fbfbf\">[12/07/21 16:36:55] </span><span style=\"color: #000080; text-decoration-color: #000080\">INFO    </span> Discretization complete                           <a href=\"file:///Users/russojd/Research/molssi_2021/msmWE_cc/msm_we/msm_we/msm_we.py\"><span style=\"color: #7f7f7f; text-decoration-color: #7f7f7f\">msm_we.py</span></a><span style=\"color: #7f7f7f; text-decoration-color: #7f7f7f\">:3993</span>\n",
       "</pre>\n"
      ],
      "text/plain": [
       "\u001b[2;36m[12/07/21 16:36:55]\u001b[0m\u001b[2;36m \u001b[0m\u001b[34mINFO    \u001b[0m Discretization complete                           \u001b]8;id=1638923815.4649112-650573;file:///Users/russojd/Research/molssi_2021/msmWE_cc/msm_we/msm_we/msm_we.py\u001b\\\u001b[2mmsm_we.py\u001b[0m\u001b]8;;\u001b\\\u001b[2m:3993\u001b[0m\n"
      ]
     },
     "metadata": {},
     "output_type": "display_data"
    },
    {
     "data": {
      "text/html": [
       "<pre style=\"white-space:pre;overflow-x:auto;line-height:normal;font-family:Menlo,'DejaVu Sans Mono',consolas,'Courier New',monospace\"><span style=\"color: #7fbfbf; text-decoration-color: #7fbfbf\">                    </span><span style=\"color: #000080; text-decoration-color: #000080\">INFO    </span> Using Ray cluster with <span style=\"color: #008080; text-decoration-color: #008080; font-weight: bold\">4.0</span> CPUs!                   <a href=\"file:///Users/russojd/Research/molssi_2021/msmWE_cc/msm_we/msm_we/msm_we.py\"><span style=\"color: #7f7f7f; text-decoration-color: #7f7f7f\">msm_we.py</span></a><span style=\"color: #7f7f7f; text-decoration-color: #7f7f7f\">:869</span>\n",
       "</pre>\n"
      ],
      "text/plain": [
       "\u001b[2;36m                   \u001b[0m\u001b[2;36m \u001b[0m\u001b[34mINFO    \u001b[0m Using Ray cluster with \u001b[1;36m4.0\u001b[0m CPUs!                   \u001b]8;id=1638923815.590465-969541;file:///Users/russojd/Research/molssi_2021/msmWE_cc/msm_we/msm_we/msm_we.py\u001b\\\u001b[2mmsm_we.py\u001b[0m\u001b]8;;\u001b\\\u001b[2m:869\u001b[0m\n"
      ]
     },
     "metadata": {},
     "output_type": "display_data"
    },
    {
     "data": {
      "application/vnd.jupyter.widget-view+json": {
       "model_id": "8739a33e746a42cf97d9a9974615bd14",
       "version_major": 2,
       "version_minor": 0
      },
      "text/plain": [
       "Submitting fluxmatrix tasks:   0%|          | 0/49 [00:00<?, ?it/s]"
      ]
     },
     "metadata": {},
     "output_type": "display_data"
    },
    {
     "data": {
      "application/vnd.jupyter.widget-view+json": {
       "model_id": "cbb3417cd73845f08b78a45f87dea148",
       "version_major": 2,
       "version_minor": 0
      },
      "text/plain": [
       "Retrieving flux matrices:   0%|          | 0/49 [00:00<?, ?it/s]"
      ]
     },
     "metadata": {},
     "output_type": "display_data"
    },
    {
     "data": {
      "text/html": [
       "<pre style=\"white-space:pre;overflow-x:auto;line-height:normal;font-family:Menlo,'DejaVu Sans Mono',consolas,'Courier New',monospace\"><span style=\"color: #7fbfbf; text-decoration-color: #7fbfbf\">[12/07/21 16:37:01] </span><span style=\"color: #000080; text-decoration-color: #000080\">INFO    </span> Fluxmatrices all obtained                         <a href=\"file:///Users/russojd/Research/molssi_2021/msmWE_cc/msm_we/msm_we/msm_we.py\"><span style=\"color: #7f7f7f; text-decoration-color: #7f7f7f\">msm_we.py</span></a><span style=\"color: #7f7f7f; text-decoration-color: #7f7f7f\">:4624</span>\n",
       "</pre>\n"
      ],
      "text/plain": [
       "\u001b[2;36m[12/07/21 16:37:01]\u001b[0m\u001b[2;36m \u001b[0m\u001b[34mINFO    \u001b[0m Fluxmatrices all obtained                         \u001b]8;id=1638923821.9753869-851767;file:///Users/russojd/Research/molssi_2021/msmWE_cc/msm_we/msm_we/msm_we.py\u001b\\\u001b[2mmsm_we.py\u001b[0m\u001b]8;;\u001b\\\u001b[2m:4624\u001b[0m\n"
      ]
     },
     "metadata": {},
     "output_type": "display_data"
    },
    {
     "data": {
      "text/html": [
       "<pre style=\"white-space:pre;overflow-x:auto;line-height:normal;font-family:Menlo,'DejaVu Sans Mono',consolas,'Courier New',monospace\"><span style=\"color: #7fbfbf; text-decoration-color: #7fbfbf\">[12/07/21 16:37:02] </span><span style=\"color: #000080; text-decoration-color: #000080\">INFO    </span>                                                   <a href=\"file:///Users/russojd/Research/molssi_2021/msmWE_cc/msm_we/msm_we/msm_we.py\"><span style=\"color: #7f7f7f; text-decoration-color: #7f7f7f\">msm_we.py</span></a><span style=\"color: #7f7f7f; text-decoration-color: #7f7f7f\">:5267</span>\n",
       "                             Flux converged to <span style=\"color: #008080; text-decoration-color: #008080; font-weight: bold\">2.9640e-10</span> after <span style=\"color: #008080; text-decoration-color: #008080; font-weight: bold\">1</span> iterations                 \n",
       "                             of inverse iteration.                                           \n",
       "</pre>\n"
      ],
      "text/plain": [
       "\u001b[2;36m[12/07/21 16:37:02]\u001b[0m\u001b[2;36m \u001b[0m\u001b[34mINFO    \u001b[0m                                                   \u001b]8;id=1638923822.0214689-512329;file:///Users/russojd/Research/molssi_2021/msmWE_cc/msm_we/msm_we/msm_we.py\u001b\\\u001b[2mmsm_we.py\u001b[0m\u001b]8;;\u001b\\\u001b[2m:5267\u001b[0m\n",
       "                             Flux converged to \u001b[1;36m2.9640e-10\u001b[0m after \u001b[1;36m1\u001b[0m iterations                 \n",
       "                             of inverse iteration.                                           \n"
      ]
     },
     "metadata": {},
     "output_type": "display_data"
    },
    {
     "data": {
      "text/html": [
       "<pre style=\"white-space:pre;overflow-x:auto;line-height:normal;font-family:Menlo,'DejaVu Sans Mono',consolas,'Courier New',monospace\"><span style=\"color: #7fbfbf; text-decoration-color: #7fbfbf\">                    </span><span style=\"color: #000080; text-decoration-color: #000080\">INFO    </span> Done with steady-state estimation.                <a href=\"file:///Users/russojd/Research/molssi_2021/msmWE_cc/msm_we/msm_we/msm_we.py\"><span style=\"color: #7f7f7f; text-decoration-color: #7f7f7f\">msm_we.py</span></a><span style=\"color: #7f7f7f; text-decoration-color: #7f7f7f\">:5278</span>\n",
       "</pre>\n"
      ],
      "text/plain": [
       "\u001b[2;36m                   \u001b[0m\u001b[2;36m \u001b[0m\u001b[34mINFO    \u001b[0m Done with steady-state estimation.                \u001b]8;id=1638923822.023678-743379;file:///Users/russojd/Research/molssi_2021/msmWE_cc/msm_we/msm_we/msm_we.py\u001b\\\u001b[2mmsm_we.py\u001b[0m\u001b]8;;\u001b\\\u001b[2m:5278\u001b[0m\n"
      ]
     },
     "metadata": {},
     "output_type": "display_data"
    },
    {
     "data": {
      "text/html": [
       "<pre style=\"white-space:pre;overflow-x:auto;line-height:normal;font-family:Menlo,'DejaVu Sans Mono',consolas,'Courier New',monospace\"><span style=\"color: #7fbfbf; text-decoration-color: #7fbfbf\">                    </span><span style=\"color: #000080; text-decoration-color: #000080\">INFO    </span> Beginning analysis of cross-validation group <span style=\"color: #008080; text-decoration-color: #008080; font-weight: bold\">2</span>/<span style=\"color: #008080; text-decoration-color: #008080; font-weight: bold\">2</span>. <a href=\"file:///Users/russojd/Research/molssi_2021/msmWE_cc/msm_we/msm_we/msm_we.py\"><span style=\"color: #7f7f7f; text-decoration-color: #7f7f7f\">msm_we.py</span></a><span style=\"color: #7f7f7f; text-decoration-color: #7f7f7f\">:1305</span>\n",
       "</pre>\n"
      ],
      "text/plain": [
       "\u001b[2;36m                   \u001b[0m\u001b[2;36m \u001b[0m\u001b[34mINFO    \u001b[0m Beginning analysis of cross-validation group \u001b[1;36m2\u001b[0m/\u001b[1;36m2\u001b[0m. \u001b]8;id=1638923822.02769-255048;file:///Users/russojd/Research/molssi_2021/msmWE_cc/msm_we/msm_we/msm_we.py\u001b\\\u001b[2mmsm_we.py\u001b[0m\u001b]8;;\u001b\\\u001b[2m:1305\u001b[0m\n"
      ]
     },
     "metadata": {},
     "output_type": "display_data"
    },
    {
     "data": {
      "text/html": [
       "<pre style=\"white-space:pre;overflow-x:auto;line-height:normal;font-family:Menlo,'DejaVu Sans Mono',consolas,'Courier New',monospace\"><span style=\"color: #7fbfbf; text-decoration-color: #7fbfbf\">                    </span><span style=\"color: #000080; text-decoration-color: #000080\">INFO    </span> Using Ray cluster with <span style=\"color: #008080; text-decoration-color: #008080; font-weight: bold\">4.0</span> CPUs!                   <a href=\"file:///Users/russojd/Research/molssi_2021/msmWE_cc/msm_we/msm_we/msm_we.py\"><span style=\"color: #7f7f7f; text-decoration-color: #7f7f7f\">msm_we.py</span></a><span style=\"color: #7f7f7f; text-decoration-color: #7f7f7f\">:869</span>\n",
       "</pre>\n"
      ],
      "text/plain": [
       "\u001b[2;36m                   \u001b[0m\u001b[2;36m \u001b[0m\u001b[34mINFO    \u001b[0m Using Ray cluster with \u001b[1;36m4.0\u001b[0m CPUs!                   \u001b]8;id=1638923822.032913-847058;file:///Users/russojd/Research/molssi_2021/msmWE_cc/msm_we/msm_we/msm_we.py\u001b\\\u001b[2mmsm_we.py\u001b[0m\u001b]8;;\u001b\\\u001b[2m:869\u001b[0m\n"
      ]
     },
     "metadata": {},
     "output_type": "display_data"
    },
    {
     "data": {
      "application/vnd.jupyter.widget-view+json": {
       "model_id": "59fb5a7afc804db594b4070837e6c628",
       "version_major": 2,
       "version_minor": 0
      },
      "text/plain": [
       "Submitting fluxmatrix tasks:   0%|          | 0/25 [00:00<?, ?it/s]"
      ]
     },
     "metadata": {},
     "output_type": "display_data"
    },
    {
     "data": {
      "text/html": [
       "<pre style=\"white-space:pre;overflow-x:auto;line-height:normal;font-family:Menlo,'DejaVu Sans Mono',consolas,'Courier New',monospace\"><span style=\"color: #7fbfbf; text-decoration-color: #7fbfbf\">[12/07/21 16:37:05] </span><span style=\"color: #000080; text-decoration-color: #000080\">INFO    </span> Fluxmatrices all obtained                         <a href=\"file:///Users/russojd/Research/molssi_2021/msmWE_cc/msm_we/msm_we/msm_we.py\"><span style=\"color: #7f7f7f; text-decoration-color: #7f7f7f\">msm_we.py</span></a><span style=\"color: #7f7f7f; text-decoration-color: #7f7f7f\">:4624</span>\n",
       "</pre>\n"
      ],
      "text/plain": [
       "\u001b[2;36m[12/07/21 16:37:05]\u001b[0m\u001b[2;36m \u001b[0m\u001b[34mINFO    \u001b[0m Fluxmatrices all obtained                         \u001b]8;id=1638923825.82214-334506;file:///Users/russojd/Research/molssi_2021/msmWE_cc/msm_we/msm_we/msm_we.py\u001b\\\u001b[2mmsm_we.py\u001b[0m\u001b]8;;\u001b\\\u001b[2m:4624\u001b[0m\n"
      ]
     },
     "metadata": {},
     "output_type": "display_data"
    },
    {
     "data": {
      "text/html": [
       "<pre style=\"white-space:pre;overflow-x:auto;line-height:normal;font-family:Menlo,'DejaVu Sans Mono',consolas,'Courier New',monospace\"><span style=\"color: #7fbfbf; text-decoration-color: #7fbfbf\">                    </span><span style=\"color: #000080; text-decoration-color: #000080\">INFO    </span> Started with <span style=\"color: #008080; text-decoration-color: #008080; font-weight: bold\">106</span> clusters, and removed <span style=\"color: #008080; text-decoration-color: #008080; font-weight: bold\">47</span>         <a href=\"file:///Users/russojd/Research/molssi_2021/msmWE_cc/msm_we/msm_we/msm_we.py\"><span style=\"color: #7f7f7f; text-decoration-color: #7f7f7f\">msm_we.py</span></a><span style=\"color: #7f7f7f; text-decoration-color: #7f7f7f\">:3840</span>\n",
       "</pre>\n"
      ],
      "text/plain": [
       "\u001b[2;36m                   \u001b[0m\u001b[2;36m \u001b[0m\u001b[34mINFO    \u001b[0m Started with \u001b[1;36m106\u001b[0m clusters, and removed \u001b[1;36m47\u001b[0m         \u001b]8;id=1638923825.847611-897052;file:///Users/russojd/Research/molssi_2021/msmWE_cc/msm_we/msm_we/msm_we.py\u001b\\\u001b[2mmsm_we.py\u001b[0m\u001b]8;;\u001b\\\u001b[2m:3840\u001b[0m\n"
      ]
     },
     "metadata": {},
     "output_type": "display_data"
    },
    {
     "data": {
      "text/html": [
       "<pre style=\"white-space:pre;overflow-x:auto;line-height:normal;font-family:Menlo,'DejaVu Sans Mono',consolas,'Courier New',monospace\"><span style=\"color: #7fbfbf; text-decoration-color: #7fbfbf\">                    </span><span style=\"color: #800000; text-decoration-color: #800000\">WARNING </span> All clusters were cleaned from bins <span style=\"font-weight: bold\">{</span><span style=\"color: #008080; text-decoration-color: #008080; font-weight: bold\">0</span>, <span style=\"color: #008080; text-decoration-color: #008080; font-weight: bold\">52</span><span style=\"font-weight: bold\">}</span>       <a href=\"file:///Users/russojd/Research/molssi_2021/msmWE_cc/msm_we/msm_we/msm_we.py\"><span style=\"color: #7f7f7f; text-decoration-color: #7f7f7f\">msm_we.py</span></a><span style=\"color: #7f7f7f; text-decoration-color: #7f7f7f\">:3856</span>\n",
       "</pre>\n"
      ],
      "text/plain": [
       "\u001b[2;36m                   \u001b[0m\u001b[2;36m \u001b[0m\u001b[31mWARNING \u001b[0m All clusters were cleaned from bins \u001b[1m{\u001b[0m\u001b[1;36m0\u001b[0m, \u001b[1;36m52\u001b[0m\u001b[1m}\u001b[0m       \u001b]8;id=1638923825.8518121-415145;file:///Users/russojd/Research/molssi_2021/msmWE_cc/msm_we/msm_we/msm_we.py\u001b\\\u001b[2mmsm_we.py\u001b[0m\u001b]8;;\u001b\\\u001b[2m:3856\u001b[0m\n"
      ]
     },
     "metadata": {},
     "output_type": "display_data"
    },
    {
     "data": {
      "text/html": [
       "<pre style=\"white-space:pre;overflow-x:auto;line-height:normal;font-family:Menlo,'DejaVu Sans Mono',consolas,'Courier New',monospace\"><span style=\"color: #7fbfbf; text-decoration-color: #7fbfbf\">                    </span><span style=\"color: #000080; text-decoration-color: #000080\">INFO    </span> Using Ray cluster with <span style=\"color: #008080; text-decoration-color: #008080; font-weight: bold\">4.0</span> CPUs!                   <a href=\"file:///Users/russojd/Research/molssi_2021/msmWE_cc/msm_we/msm_we/msm_we.py\"><span style=\"color: #7f7f7f; text-decoration-color: #7f7f7f\">msm_we.py</span></a><span style=\"color: #7f7f7f; text-decoration-color: #7f7f7f\">:869</span>\n",
       "</pre>\n"
      ],
      "text/plain": [
       "\u001b[2;36m                   \u001b[0m\u001b[2;36m \u001b[0m\u001b[34mINFO    \u001b[0m Using Ray cluster with \u001b[1;36m4.0\u001b[0m CPUs!                   \u001b]8;id=1638923825.859304-100564;file:///Users/russojd/Research/molssi_2021/msmWE_cc/msm_we/msm_we/msm_we.py\u001b\\\u001b[2mmsm_we.py\u001b[0m\u001b]8;;\u001b\\\u001b[2m:869\u001b[0m\n"
      ]
     },
     "metadata": {},
     "output_type": "display_data"
    },
    {
     "data": {
      "application/vnd.jupyter.widget-view+json": {
       "model_id": "caa4b4ce052d46eca52469155afcce1c",
       "version_major": 2,
       "version_minor": 0
      },
      "text/plain": [
       "Submitting discretization tasks:   0%|          | 0/99 [00:00<?, ?it/s]"
      ]
     },
     "metadata": {},
     "output_type": "display_data"
    },
    {
     "data": {
      "text/html": [
       "<pre style=\"white-space:pre;overflow-x:auto;line-height:normal;font-family:Menlo,'DejaVu Sans Mono',consolas,'Courier New',monospace\"><span style=\"color: #7fbfbf; text-decoration-color: #7fbfbf\">[12/07/21 16:37:13] </span><span style=\"color: #000080; text-decoration-color: #000080\">INFO    </span> Discretization complete                           <a href=\"file:///Users/russojd/Research/molssi_2021/msmWE_cc/msm_we/msm_we/msm_we.py\"><span style=\"color: #7f7f7f; text-decoration-color: #7f7f7f\">msm_we.py</span></a><span style=\"color: #7f7f7f; text-decoration-color: #7f7f7f\">:3993</span>\n",
       "</pre>\n"
      ],
      "text/plain": [
       "\u001b[2;36m[12/07/21 16:37:13]\u001b[0m\u001b[2;36m \u001b[0m\u001b[34mINFO    \u001b[0m Discretization complete                           \u001b]8;id=1638923833.194442-519175;file:///Users/russojd/Research/molssi_2021/msmWE_cc/msm_we/msm_we/msm_we.py\u001b\\\u001b[2mmsm_we.py\u001b[0m\u001b]8;;\u001b\\\u001b[2m:3993\u001b[0m\n"
      ]
     },
     "metadata": {},
     "output_type": "display_data"
    },
    {
     "data": {
      "text/html": [
       "<pre style=\"white-space:pre;overflow-x:auto;line-height:normal;font-family:Menlo,'DejaVu Sans Mono',consolas,'Courier New',monospace\"><span style=\"color: #7fbfbf; text-decoration-color: #7fbfbf\">                    </span><span style=\"color: #000080; text-decoration-color: #000080\">INFO    </span> Using Ray cluster with <span style=\"color: #008080; text-decoration-color: #008080; font-weight: bold\">4.0</span> CPUs!                   <a href=\"file:///Users/russojd/Research/molssi_2021/msmWE_cc/msm_we/msm_we/msm_we.py\"><span style=\"color: #7f7f7f; text-decoration-color: #7f7f7f\">msm_we.py</span></a><span style=\"color: #7f7f7f; text-decoration-color: #7f7f7f\">:869</span>\n",
       "</pre>\n"
      ],
      "text/plain": [
       "\u001b[2;36m                   \u001b[0m\u001b[2;36m \u001b[0m\u001b[34mINFO    \u001b[0m Using Ray cluster with \u001b[1;36m4.0\u001b[0m CPUs!                   \u001b]8;id=1638923833.29949-595386;file:///Users/russojd/Research/molssi_2021/msmWE_cc/msm_we/msm_we/msm_we.py\u001b\\\u001b[2mmsm_we.py\u001b[0m\u001b]8;;\u001b\\\u001b[2m:869\u001b[0m\n"
      ]
     },
     "metadata": {},
     "output_type": "display_data"
    },
    {
     "data": {
      "application/vnd.jupyter.widget-view+json": {
       "model_id": "4c8334c9ccde4950a99a50c64946a248",
       "version_major": 2,
       "version_minor": 0
      },
      "text/plain": [
       "Submitting fluxmatrix tasks:   0%|          | 0/25 [00:00<?, ?it/s]"
      ]
     },
     "metadata": {},
     "output_type": "display_data"
    },
    {
     "data": {
      "application/vnd.jupyter.widget-view+json": {
       "model_id": "c16e62ac5a094bd98ce269c35a8eada1",
       "version_major": 2,
       "version_minor": 0
      },
      "text/plain": [
       "Retrieving flux matrices:   0%|          | 0/25 [00:00<?, ?it/s]"
      ]
     },
     "metadata": {},
     "output_type": "display_data"
    },
    {
     "data": {
      "text/html": [
       "<pre style=\"white-space:pre;overflow-x:auto;line-height:normal;font-family:Menlo,'DejaVu Sans Mono',consolas,'Courier New',monospace\"><span style=\"color: #7fbfbf; text-decoration-color: #7fbfbf\">                    </span><span style=\"color: #000080; text-decoration-color: #000080\">INFO    </span>                                                   <a href=\"file:///Users/russojd/Research/molssi_2021/msmWE_cc/msm_we/msm_we/msm_we.py\"><span style=\"color: #7f7f7f; text-decoration-color: #7f7f7f\">msm_we.py</span></a><span style=\"color: #7f7f7f; text-decoration-color: #7f7f7f\">:5267</span>\n",
       "                             Flux converged to <span style=\"color: #008080; text-decoration-color: #008080; font-weight: bold\">1.5876e-10</span> after <span style=\"color: #008080; text-decoration-color: #008080; font-weight: bold\">1</span> iterations                 \n",
       "                             of inverse iteration.                                           \n",
       "</pre>\n"
      ],
      "text/plain": [
       "\u001b[2;36m                   \u001b[0m\u001b[2;36m \u001b[0m\u001b[34mINFO    \u001b[0m                                                   \u001b]8;id=1638923837.500212-585841;file:///Users/russojd/Research/molssi_2021/msmWE_cc/msm_we/msm_we/msm_we.py\u001b\\\u001b[2mmsm_we.py\u001b[0m\u001b]8;;\u001b\\\u001b[2m:5267\u001b[0m\n",
       "                             Flux converged to \u001b[1;36m1.5876e-10\u001b[0m after \u001b[1;36m1\u001b[0m iterations                 \n",
       "                             of inverse iteration.                                           \n"
      ]
     },
     "metadata": {},
     "output_type": "display_data"
    },
    {
     "data": {
      "text/html": [
       "<pre style=\"white-space:pre;overflow-x:auto;line-height:normal;font-family:Menlo,'DejaVu Sans Mono',consolas,'Courier New',monospace\"><span style=\"color: #7fbfbf; text-decoration-color: #7fbfbf\">                    </span><span style=\"color: #000080; text-decoration-color: #000080\">INFO    </span> Done with steady-state estimation.                <a href=\"file:///Users/russojd/Research/molssi_2021/msmWE_cc/msm_we/msm_we/msm_we.py\"><span style=\"color: #7f7f7f; text-decoration-color: #7f7f7f\">msm_we.py</span></a><span style=\"color: #7f7f7f; text-decoration-color: #7f7f7f\">:5278</span>\n",
       "</pre>\n"
      ],
      "text/plain": [
       "\u001b[2;36m                   \u001b[0m\u001b[2;36m \u001b[0m\u001b[34mINFO    \u001b[0m Done with steady-state estimation.                \u001b]8;id=1638923837.50276-732176;file:///Users/russojd/Research/molssi_2021/msmWE_cc/msm_we/msm_we/msm_we.py\u001b\\\u001b[2mmsm_we.py\u001b[0m\u001b]8;;\u001b\\\u001b[2m:5278\u001b[0m\n"
      ]
     },
     "metadata": {},
     "output_type": "display_data"
    }
   ],
   "source": [
    "model = msm_we.modelWE()\n",
    "\n",
    "model.build_analyze_model(\n",
    "    ray_kwargs = {'num_cpus': 4, 'include_dashboard': False},\n",
    "    file_paths = file_paths,\n",
    "    ref_struct = ref_structure,\n",
    "    modelName  = 'NTL9',\n",
    "    basis_pcoord_bounds = [[9.6, np.inf]],\n",
    "    target_pcoord_bounds = [[-np.inf, 1.0]],\n",
    "    dimreduce_method = 'pca',\n",
    "    tau = 1,\n",
    "    n_clusters = 2,\n",
    "    # Optional arguments below\n",
    "    max_coord_iter=-1,\n",
    "    stratified=True,\n",
    "    streaming=True,\n",
    "    use_ray=True,\n",
    "    fluxmatrix_iters=[1,-1],\n",
    "    fluxmatrix_iters_to_use=None,\n",
    "    show_live_display=True\n",
    ")"
   ]
  },
  {
   "cell_type": "markdown",
   "id": "113104c1-0e99-4386-bcdf-753bd0882d1e",
   "metadata": {},
   "source": [
    "## Loading a stored model\n",
    "\n",
    "The restarting plugin automatically saves the haMSM associated with each restart as `hamsm.obj`. This can be loaded using Python's `pickle` module."
   ]
  },
  {
   "cell_type": "code",
   "execution_count": 1,
   "id": "d0578dbe-166e-4934-9aef-faec36fd1372",
   "metadata": {
    "execution": {
     "iopub.execute_input": "2021-12-08T16:53:42.323780Z",
     "iopub.status.busy": "2021-12-08T16:53:42.323170Z",
     "iopub.status.idle": "2021-12-08T16:53:42.333618Z",
     "shell.execute_reply": "2021-12-08T16:53:42.332417Z",
     "shell.execute_reply.started": "2021-12-08T16:53:42.323712Z"
    },
    "tags": []
   },
   "outputs": [],
   "source": [
    "import pickle"
   ]
  },
  {
   "cell_type": "code",
   "execution_count": 3,
   "id": "94706c61-7d52-412e-ade8-f071a2e540d4",
   "metadata": {
    "execution": {
     "iopub.execute_input": "2021-12-08T16:53:58.835445Z",
     "iopub.status.busy": "2021-12-08T16:53:58.834953Z",
     "iopub.status.idle": "2021-12-08T16:54:02.492704Z",
     "shell.execute_reply": "2021-12-08T16:54:02.491920Z",
     "shell.execute_reply.started": "2021-12-08T16:53:58.835419Z"
    },
    "tags": []
   },
   "outputs": [],
   "source": [
    "base_path = 'restart0'\n",
    "hamsm_path = f'{base_path}/hamsm.obj'\n",
    "stored_model = pickle.load(open(hamsm_path, 'rb'))\n",
    "\n",
    "# TODO: Remove this line, just using b/c I'm loading an older model.\n",
    "stored_model.validation_models = []"
   ]
  },
  {
   "cell_type": "markdown",
   "id": "3a096560-a401-41ab-8954-79454d94f014",
   "metadata": {},
   "source": [
    "And we can do all the same things with it as with any other model object."
   ]
  },
  {
   "cell_type": "code",
   "execution_count": 4,
   "id": "c7a1d67f-5d3a-4387-a2e1-a267808a59fd",
   "metadata": {
    "execution": {
     "iopub.execute_input": "2021-12-08T16:54:02.494444Z",
     "iopub.status.busy": "2021-12-08T16:54:02.494182Z",
     "iopub.status.idle": "2021-12-08T16:55:00.510745Z",
     "shell.execute_reply": "2021-12-08T16:55:00.509872Z",
     "shell.execute_reply.started": "2021-12-08T16:54:02.494421Z"
    },
    "tags": []
   },
   "outputs": [
    {
     "data": {
      "text/html": [
       "<pre style=\"white-space:pre;overflow-x:auto;line-height:normal;font-family:Menlo,'DejaVu Sans Mono',consolas,'Courier New',monospace\"><span style=\"color: #7fbfbf; text-decoration-color: #7fbfbf\">[12/08/21 08:54:02] </span><span style=\"background-color: #800000; font-weight: bold\">CRITICAL</span> No cross-validation models have been generated!   <a href=\"file:///Users/russojd/Research/molssi_2021/msmWE_cc/msm_we/msm_we/msm_we.py\"><span style=\"color: #7f7f7f; text-decoration-color: #7f7f7f\">msm_we.py</span></a><span style=\"color: #7f7f7f; text-decoration-color: #7f7f7f\">:5856</span>\n",
       "                             Do this before making plots.                                    \n",
       "</pre>\n"
      ],
      "text/plain": [
       "\u001b[2;36m[12/08/21 08:54:02]\u001b[0m\u001b[2;36m \u001b[0m\u001b[1;7;31mCRITICAL\u001b[0m No cross-validation models have been generated!   \u001b]8;id=1638982442.4998899-980768;file:///Users/russojd/Research/molssi_2021/msmWE_cc/msm_we/msm_we/msm_we.py\u001b\\\u001b[2mmsm_we.py\u001b[0m\u001b]8;;\u001b\\\u001b[2m:5856\u001b[0m\n",
       "                             Do this before making plots.                                    \n"
      ]
     },
     "metadata": {},
     "output_type": "display_data"
    },
    {
     "data": {
      "text/html": [
       "<pre style=\"white-space:pre;overflow-x:auto;line-height:normal;font-family:Menlo,'DejaVu Sans Mono',consolas,'Courier New',monospace\"><span style=\"color: #7fbfbf; text-decoration-color: #7fbfbf\">                    </span><span style=\"color: #800000; text-decoration-color: #800000\">WARNING </span> Fluxes have not yet been generated for            <a href=\"file:///Users/russojd/Research/molssi_2021/msmWE_cc/msm_we/msm_we/msm_we.py\"><span style=\"color: #7f7f7f; text-decoration-color: #7f7f7f\">msm_we.py</span></a><span style=\"color: #7f7f7f; text-decoration-color: #7f7f7f\">:5899</span>\n",
       "                             main_model, generating now.                                     \n",
       "</pre>\n"
      ],
      "text/plain": [
       "\u001b[2;36m                   \u001b[0m\u001b[2;36m \u001b[0m\u001b[31mWARNING \u001b[0m Fluxes have not yet been generated for            \u001b]8;id=1638982442.527497-816729;file:///Users/russojd/Research/molssi_2021/msmWE_cc/msm_we/msm_we/msm_we.py\u001b\\\u001b[2mmsm_we.py\u001b[0m\u001b]8;;\u001b\\\u001b[2m:5899\u001b[0m\n",
       "                             main_model, generating now.                                     \n"
      ]
     },
     "metadata": {},
     "output_type": "display_data"
    },
    {
     "data": {
      "image/png": "[encoded data removed]",
      "text/plain": [
       "<Figure size 720x288 with 1 Axes>"
      ]
     },
     "metadata": {
      "needs_background": "light"
     },
     "output_type": "display_data"
    }
   ],
   "source": [
    "ax = stored_model.plot_flux(suppress_validation=True)"
   ]
  },
  {
   "cell_type": "code",
   "execution_count": 5,
   "id": "fd4faf49-02e6-462b-ab11-cbeabba5fdd4",
   "metadata": {
    "execution": {
     "iopub.execute_input": "2021-12-08T16:55:00.512007Z",
     "iopub.status.busy": "2021-12-08T16:55:00.511653Z",
     "iopub.status.idle": "2021-12-08T16:55:53.671615Z",
     "shell.execute_reply": "2021-12-08T16:55:53.670592Z",
     "shell.execute_reply.started": "2021-12-08T16:55:00.511985Z"
    },
    "tags": []
   },
   "outputs": [
    {
     "data": {
      "text/html": [
       "<pre style=\"white-space:pre;overflow-x:auto;line-height:normal;font-family:Menlo,'DejaVu Sans Mono',consolas,'Courier New',monospace\"><span style=\"color: #7fbfbf; text-decoration-color: #7fbfbf\">[12/08/21 08:55:00] </span><span style=\"background-color: #800000; font-weight: bold\">CRITICAL</span> No cross-validation models have been generated!   <a href=\"file:///Users/russojd/Research/molssi_2021/msmWE_cc/msm_we/msm_we/msm_we.py\"><span style=\"color: #7f7f7f; text-decoration-color: #7f7f7f\">msm_we.py</span></a><span style=\"color: #7f7f7f; text-decoration-color: #7f7f7f\">:5721</span>\n",
       "                             Do this before making plots.                                    \n",
       "</pre>\n"
      ],
      "text/plain": [
       "\u001b[2;36m[12/08/21 08:55:00]\u001b[0m\u001b[2;36m \u001b[0m\u001b[1;7;31mCRITICAL\u001b[0m No cross-validation models have been generated!   \u001b]8;id=1638982500.51397-180557;file:///Users/russojd/Research/molssi_2021/msmWE_cc/msm_we/msm_we/msm_we.py\u001b\\\u001b[2mmsm_we.py\u001b[0m\u001b]8;;\u001b\\\u001b[2m:5721\u001b[0m\n",
       "                             Do this before making plots.                                    \n"
      ]
     },
     "metadata": {},
     "output_type": "display_data"
    },
    {
     "data": {
      "text/html": [
       "<pre style=\"white-space:pre;overflow-x:auto;line-height:normal;font-family:Menlo,'DejaVu Sans Mono',consolas,'Courier New',monospace\"><span style=\"color: #7fbfbf; text-decoration-color: #7fbfbf\">                    </span><span style=\"color: #800000; text-decoration-color: #800000\">WARNING </span> Committors have not yet been generated for        <a href=\"file:///Users/russojd/Research/molssi_2021/msmWE_cc/msm_we/msm_we/msm_we.py\"><span style=\"color: #7f7f7f; text-decoration-color: #7f7f7f\">msm_we.py</span></a><span style=\"color: #7f7f7f; text-decoration-color: #7f7f7f\">:5747</span>\n",
       "                             main_model, generating now.                                     \n",
       "</pre>\n"
      ],
      "text/plain": [
       "\u001b[2;36m                   \u001b[0m\u001b[2;36m \u001b[0m\u001b[31mWARNING \u001b[0m Committors have not yet been generated for        \u001b]8;id=1638982500.533936-642297;file:///Users/russojd/Research/molssi_2021/msmWE_cc/msm_we/msm_we/msm_we.py\u001b\\\u001b[2mmsm_we.py\u001b[0m\u001b]8;;\u001b\\\u001b[2m:5747\u001b[0m\n",
       "                             main_model, generating now.                                     \n"
      ]
     },
     "metadata": {},
     "output_type": "display_data"
    },
    {
     "data": {
      "text/html": [
       "<pre style=\"white-space:pre;overflow-x:auto;line-height:normal;font-family:Menlo,'DejaVu Sans Mono',consolas,'Courier New',monospace\"><span style=\"color: #7fbfbf; text-decoration-color: #7fbfbf\">                    </span><span style=\"color: #800000; text-decoration-color: #800000\">WARNING </span> Note that, if steady-state weighted ensemble data <a href=\"file:///Users/russojd/Research/molssi_2021/msmWE_cc/msm_we/msm_we/msm_we.py\"><span style=\"color: #7f7f7f; text-decoration-color: #7f7f7f\">msm_we.py</span></a><span style=\"color: #7f7f7f; text-decoration-color: #7f7f7f\">:6684</span>\n",
       "                             is being analyzed, this is a <span style=\"color: #008000; text-decoration-color: #008000\">'pseudocommittor'</span>                  \n",
       "                             and not a true committor as a result of being                   \n",
       "                             constructed from a one-way ensemble.                            \n",
       "</pre>\n"
      ],
      "text/plain": [
       "\u001b[2;36m                   \u001b[0m\u001b[2;36m \u001b[0m\u001b[31mWARNING \u001b[0m Note that, if steady-state weighted ensemble data \u001b]8;id=1638982500.53617-164127;file:///Users/russojd/Research/molssi_2021/msmWE_cc/msm_we/msm_we/msm_we.py\u001b\\\u001b[2mmsm_we.py\u001b[0m\u001b]8;;\u001b\\\u001b[2m:6684\u001b[0m\n",
       "                             is being analyzed, this is a \u001b[32m'pseudocommittor'\u001b[0m                  \n",
       "                             and not a true committor as a result of being                   \n",
       "                             constructed from a one-way ensemble.                            \n"
      ]
     },
     "metadata": {},
     "output_type": "display_data"
    },
    {
     "data": {
      "application/vnd.jupyter.widget-view+json": {
       "model_id": "b34216e1c09e4e68a0d151fd101ecab9",
       "version_major": 2,
       "version_minor": 0
      },
      "text/plain": [
       "  0%|          | 0/5.0 [00:00<?, ?it/s]"
      ]
     },
     "metadata": {},
     "output_type": "display_data"
    },
    {
     "data": {
      "text/html": [
       "<pre style=\"white-space:pre;overflow-x:auto;line-height:normal;font-family:Menlo,'DejaVu Sans Mono',consolas,'Courier New',monospace\"><span style=\"color: #7fbfbf; text-decoration-color: #7fbfbf\">                    </span><span style=\"color: #800000; text-decoration-color: #800000\">WARNING </span> Committor-fluxes have not yet been generated for  <a href=\"file:///Users/russojd/Research/molssi_2021/msmWE_cc/msm_we/msm_we/msm_we.py\"><span style=\"color: #7f7f7f; text-decoration-color: #7f7f7f\">msm_we.py</span></a><span style=\"color: #7f7f7f; text-decoration-color: #7f7f7f\">:5753</span>\n",
       "                             main_model, generating now.                                     \n",
       "</pre>\n"
      ],
      "text/plain": [
       "\u001b[2;36m                   \u001b[0m\u001b[2;36m \u001b[0m\u001b[31mWARNING \u001b[0m Committor-fluxes have not yet been generated for  \u001b]8;id=1638982500.703777-341180;file:///Users/russojd/Research/molssi_2021/msmWE_cc/msm_we/msm_we/msm_we.py\u001b\\\u001b[2mmsm_we.py\u001b[0m\u001b]8;;\u001b\\\u001b[2m:5753\u001b[0m\n",
       "                             main_model, generating now.                                     \n"
      ]
     },
     "metadata": {},
     "output_type": "display_data"
    },
    {
     "data": {
      "application/vnd.jupyter.widget-view+json": {
       "model_id": "e373a7aecd2d473abd7d4b49ef10fb39",
       "version_major": 2,
       "version_minor": 0
      },
      "text/plain": [
       "Obtaining pseudocommittor-fluxes:   0%|          | 0/918 [00:00<?, ?it/s]"
      ]
     },
     "metadata": {},
     "output_type": "display_data"
    },
    {
     "data": {
      "text/html": [
       "<pre style=\"white-space:pre;overflow-x:auto;line-height:normal;font-family:Menlo,'DejaVu Sans Mono',consolas,'Courier New',monospace\"><span style=\"color: #7fbfbf; text-decoration-color: #7fbfbf\">[12/08/21 08:55:52] </span><span style=\"color: #800000; text-decoration-color: #800000\">WARNING </span> Note that, if steady-state weighted ensemble data <a href=\"file:///Users/russojd/Research/molssi_2021/msmWE_cc/msm_we/msm_we/msm_we.py\"><span style=\"color: #7f7f7f; text-decoration-color: #7f7f7f\">msm_we.py</span></a><span style=\"color: #7f7f7f; text-decoration-color: #7f7f7f\">:6684</span>\n",
       "                             is being analyzed, this is a <span style=\"color: #008000; text-decoration-color: #008000\">'pseudocommittor'</span>                  \n",
       "                             and not a true committor as a result of being                   \n",
       "                             constructed from a one-way ensemble.                            \n",
       "</pre>\n"
      ],
      "text/plain": [
       "\u001b[2;36m[12/08/21 08:55:52]\u001b[0m\u001b[2;36m \u001b[0m\u001b[31mWARNING \u001b[0m Note that, if steady-state weighted ensemble data \u001b]8;id=1638982552.9579608-973887;file:///Users/russojd/Research/molssi_2021/msmWE_cc/msm_we/msm_we/msm_we.py\u001b\\\u001b[2mmsm_we.py\u001b[0m\u001b]8;;\u001b\\\u001b[2m:6684\u001b[0m\n",
       "                             is being analyzed, this is a \u001b[32m'pseudocommittor'\u001b[0m                  \n",
       "                             and not a true committor as a result of being                   \n",
       "                             constructed from a one-way ensemble.                            \n"
      ]
     },
     "metadata": {},
     "output_type": "display_data"
    },
    {
     "ename": "NameError",
     "evalue": "name 'plt' is not defined",
     "output_type": "error",
     "traceback": [
      "\u001b[0;31m---------------------------------------------------------------------------\u001b[0m",
      "\u001b[0;31mNameError\u001b[0m                                 Traceback (most recent call last)",
      "\u001b[0;32m/var/folders/br/39cs_vgj35b6qs4y2kdfp7dsg0d5l5/T/ipykernel_20712/986826687.py\u001b[0m in \u001b[0;36m<module>\u001b[0;34m\u001b[0m\n\u001b[1;32m      1\u001b[0m \u001b[0mstored_model\u001b[0m\u001b[0;34m.\u001b[0m\u001b[0mplot_flux_committor\u001b[0m\u001b[0;34m(\u001b[0m\u001b[0msuppress_validation\u001b[0m\u001b[0;34m=\u001b[0m\u001b[0;32mTrue\u001b[0m\u001b[0;34m)\u001b[0m\u001b[0;34m\u001b[0m\u001b[0;34m\u001b[0m\u001b[0m\n\u001b[0;32m----> 2\u001b[0;31m \u001b[0mplt\u001b[0m\u001b[0;34m.\u001b[0m\u001b[0mgca\u001b[0m\u001b[0;34m(\u001b[0m\u001b[0;34m)\u001b[0m\u001b[0;34m.\u001b[0m\u001b[0mset_xscale\u001b[0m\u001b[0;34m(\u001b[0m\u001b[0;34m'linear'\u001b[0m\u001b[0;34m)\u001b[0m\u001b[0;34m\u001b[0m\u001b[0;34m\u001b[0m\u001b[0m\n\u001b[0m",
      "\u001b[0;31mNameError\u001b[0m: name 'plt' is not defined"
     ]
    },
    {
     "data": {
      "image/png": "[encoded data removed]",
      "text/plain": [
       "<Figure size 720x288 with 1 Axes>"
      ]
     },
     "metadata": {
      "needs_background": "light"
     },
     "output_type": "display_data"
    }
   ],
   "source": [
    "stored_model.plot_flux_committor(suppress_validation=True)\n",
    "plt.gca().set_xscale('linear')"
   ]
  },
  {
   "cell_type": "code",
   "execution_count": null,
   "id": "90299b6f-8461-4ea5-839a-a297e709cc66",
   "metadata": {},
   "outputs": [],
   "source": []
  }
 ],
 "metadata": {
  "kernelspec": {
   "display_name": "Python 3 (ipykernel)",
   "language": "python",
   "name": "python3"
  },
  "language_info": {
   "codemirror_mode": {
    "name": "ipython",
    "version": 3
   },
   "file_extension": ".py",
   "mimetype": "text/x-python",
   "name": "python",
   "nbconvert_exporter": "python",
   "pygments_lexer": "ipython3",
   "version": "3.9.6"
  }
 },
 "nbformat": 4,
 "nbformat_minor": 5
}
